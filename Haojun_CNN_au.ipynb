{
 "cells": [
  {
   "cell_type": "markdown",
   "metadata": {},
   "source": [
    "# Feature Extraction using CNN\n",
    "\n",
    "Here we are attempting to train a small Convolution Neural Network to see if the neural network can extract features that can help us improve our classical algorithms.\n",
    "\n",
    "One thing we are concerned about is the fact that classical algorithms cannot perform better tha CNNs. However, we aim to improve classical algorithms because they can run at a much faster speed. So if our CNN feature extractor paired with classical algorithms can perform just as well as original CNNs, it is promising that we can apply this to large datasets that CNN will take too long to run. One other thing is we can run classical algorithms in real time, meaning we can classify music much faster in real time than passing it through a CNN\n",
    "\n",
    "This file will contain all code to extract features."
   ]
  },
  {
   "cell_type": "code",
   "execution_count": 1,
   "metadata": {},
   "outputs": [
    {
     "name": "stderr",
     "output_type": "stream",
     "text": [
      "Using TensorFlow backend.\n"
     ]
    }
   ],
   "source": [
    "import os\n",
    "import keras\n",
    "import numpy as np\n",
    "import sklearn.model_selection as ms\n",
    "import matplotlib.pyplot as plt\n",
    "import librosa\n",
    "import librosa.display as display"
   ]
  },
  {
   "cell_type": "code",
   "execution_count": 2,
   "metadata": {},
   "outputs": [],
   "source": [
    "import tensorflow as tf\n",
    "from keras.backend.tensorflow_backend import set_session\n",
    "\n",
    "config = tf.ConfigProto()\n",
    "config.gpu_options.allow_growth = True\n",
    "session = tf.Session(config=config)\n",
    "set_session(session)"
   ]
  },
  {
   "cell_type": "markdown",
   "metadata": {},
   "source": [
    "## Data loading\n",
    "\n",
    "First we will load out date into the notebook so we can process them easily"
   ]
  },
  {
   "cell_type": "code",
   "execution_count": 3,
   "metadata": {},
   "outputs": [],
   "source": [
    "X = np.load('data_mat/X2.npy')\n",
    "Y = np.load('data_mat/Y2.npy')"
   ]
  },
  {
   "cell_type": "code",
   "execution_count": 4,
   "metadata": {},
   "outputs": [
    {
     "name": "stdout",
     "output_type": "stream",
     "text": [
      "training X shape is (500, 20, 1290)\n",
      "training Y shape is (500, 5)\n"
     ]
    }
   ],
   "source": [
    "print(\"training X shape is {0}\".format(X.shape))\n",
    "print(\"training Y shape is {0}\".format(Y.shape))"
   ]
  },
  {
   "cell_type": "markdown",
   "metadata": {},
   "source": [
    "To apply the training set to the model easier, we will transform our data and split them so they can be fed into the models."
   ]
  },
  {
   "cell_type": "code",
   "execution_count": 5,
   "metadata": {},
   "outputs": [
    {
     "data": {
      "text/plain": [
       "<matplotlib.image.AxesImage at 0x2085a6f3b38>"
      ]
     },
     "execution_count": 5,
     "metadata": {},
     "output_type": "execute_result"
    },
    {
     "data": {
      "image/png": "[encoded data removed]",
      "text/plain": [
       "<Figure size 432x288 with 1 Axes>"
      ]
     },
     "metadata": {
      "needs_background": "light"
     },
     "output_type": "display_data"
    }
   ],
   "source": [
    "plt.imshow(X[0][:, :100])"
   ]
  },
  {
   "cell_type": "code",
   "execution_count": 6,
   "metadata": {},
   "outputs": [
    {
     "name": "stdout",
     "output_type": "stream",
     "text": [
      "training X shape is (500, 1290, 20)\n"
     ]
    },
    {
     "data": {
      "text/plain": [
       "<matplotlib.image.AxesImage at 0x2087273e5f8>"
      ]
     },
     "execution_count": 6,
     "metadata": {},
     "output_type": "execute_result"
    },
    {
     "data": {
      "image/png": "[encoded data removed]",
      "text/plain": [
       "<Figure size 432x288 with 1 Axes>"
      ]
     },
     "metadata": {
      "needs_background": "light"
     },
     "output_type": "display_data"
    }
   ],
   "source": [
    "X2 = np.transpose(X, (0, 2, 1))\n",
    "print(\"training X shape is {0}\".format(X2.shape))\n",
    "plt.imshow(X2[0][:100, :])"
   ]
  },
  {
   "cell_type": "code",
   "execution_count": 7,
   "metadata": {},
   "outputs": [
    {
     "name": "stdout",
     "output_type": "stream",
     "text": [
      "(400, 1290, 20) (100, 1290, 20) (400, 5) (100, 5)\n"
     ]
    }
   ],
   "source": [
    "inds = np.arange(X2.shape[0])\n",
    "np.random.shuffle(inds)\n",
    "X_train, X_test, Y_train, Y_test = ms.train_test_split(X2[inds], Y[inds], test_size=0.2, random_state=123)\n",
    "print(X_train.shape, X_test.shape, Y_train.shape, Y_test.shape)"
   ]
  },
  {
   "cell_type": "markdown",
   "metadata": {},
   "source": [
    "## CNN modeling\n",
    "\n",
    "Here we will use a 1D convolution layer, followed by standard pool, relu layers, followed by dense layers and then a softmax unit for output prediction."
   ]
  },
  {
   "cell_type": "code",
   "execution_count": 36,
   "metadata": {},
   "outputs": [],
   "source": [
    "def model(input_shape):\n",
    "    X_inputs = keras.layers.Input(input_shape)\n",
    "    X = X_inputs\n",
    "    print(X.shape)\n",
    "    X = keras.layers.Conv1D(filters=4, kernel_size=32, dilation_rate=8,\n",
    "                            padding='same', data_format=\"channels_last\")(X)\n",
    "    print(X.shape)\n",
    "    X = keras.layers.Dropout(0.5)(X)    \n",
    "    X = keras.layers.AveragePooling1D(pool_size=32)(X)\n",
    "    X = keras.layers.BatchNormalization(axis = 2)(X)\n",
    "    X = keras.layers.Activation('relu')(X)\n",
    "    print(X.shape)\n",
    "#     X = keras.layers.Dropout(0.7)(X)    \n",
    "    X = keras.layers.Conv1D(filters=16, kernel_size=16, dilation_rate=2, padding='valid', data_format=\"channels_last\")(X)\n",
    "    X = keras.layers.Dropout(0.5)(X)    \n",
    "    X = keras.layers.AveragePooling1D(pool_size=4)(X)\n",
    "    X = keras.layers.BatchNormalization(axis = 2)(X)\n",
    "    X = keras.layers.Activation('relu')(X)\n",
    "    print(X.shape)\n",
    "#     X = keras.layers.Dropout(0.5)(X)    \n",
    "#     X = keras.layers.Conv1D(filters=30, kernel_size=4, dilation_rate=1, padding='valid', data_format=\"channels_last\")(X)\n",
    "#     X = keras.layers.Dropout(0.5)(X)    \n",
    "#     X = keras.layers.AveragePooling1D(pool_size=4)(X)\n",
    "#     X = keras.layers.BatchNormalization(axis = 2)(X)\n",
    "#     X = keras.layers.Activation('relu')(X)\n",
    "# #     X = keras.layers.Dropout(0.5)(X)    \n",
    "#     print(X.shape)\n",
    "#     X = keras.layers.Conv1D(filters=8, kernel_size=2, dilation_rate=2, padding='valid', data_format=\"channels_last\")(X)\n",
    "#     X = keras.layers.Dropout(0.5)(X)    \n",
    "#     X = keras.layers.MaxPooling1D(pool_size=2)(X)\n",
    "#     X = keras.layers.BatchNormalization(axis = 2)(X)\n",
    "#     X = keras.layers.Activation('relu')(X)\n",
    "# #     X = keras.layers.Dropout(0.5)(X)    \n",
    "#     print(X.shape)\n",
    "    \n",
    "    X = keras.layers.Flatten()(X)\n",
    "#     X = keras.layers.Dense(20, activation='sigmoid')(X)\n",
    "#     X = keras.layers.Dropout(0.5)(X)    \n",
    "# #     X = keras.layers.Dense(35, activation='sigmoid')(X)\n",
    "#     X = keras.layers.Dense(10, activation='sigmoid')(X)\n",
    "#     X = keras.layers.Dropout(0.5)(X)    \n",
    "#     X = keras.layers.Dense(30, activation='sigmoid')(X)\n",
    "    X = keras.layers.Dropout(0.5)(X)    \n",
    "    X = keras.layers.Dense(5, activation='softmax')(X)\n",
    "    print(X.shape)\n",
    "    \n",
    "    model = keras.models.Model(inputs=X_inputs, outputs=X, name='cnn')\n",
    "    return model"
   ]
  },
  {
   "cell_type": "code",
   "execution_count": 37,
   "metadata": {},
   "outputs": [
    {
     "name": "stdout",
     "output_type": "stream",
     "text": [
      "(?, 1290, 20)\n",
      "(?, 1290, 4)\n",
      "(?, 40, 4)\n",
      "(?, 2, 16)\n",
      "(?, 5)\n"
     ]
    }
   ],
   "source": [
    "m = model(X2.shape[1:])\n",
    "# optimizer = keras.optimizers.Adam(lr=0.01, beta_1=0.9, beta_2=0.999)\n",
    "m.compile(optimizer='adam', loss='categorical_crossentropy', metrics=['categorical_accuracy'])"
   ]
  },
  {
   "cell_type": "code",
   "execution_count": 38,
   "metadata": {},
   "outputs": [
    {
     "name": "stdout",
     "output_type": "stream",
     "text": [
      "_________________________________________________________________\n",
      "Layer (type)                 Output Shape              Param #   \n",
      "=================================================================\n",
      "input_5 (InputLayer)         (None, 1290, 20)          0         \n",
      "_________________________________________________________________\n",
      "conv1d_9 (Conv1D)            (None, 1290, 4)           2564      \n",
      "_________________________________________________________________\n",
      "dropout_13 (Dropout)         (None, 1290, 4)           0         \n",
      "_________________________________________________________________\n",
      "average_pooling1d_9 (Average (None, 40, 4)             0         \n",
      "_________________________________________________________________\n",
      "batch_normalization_9 (Batch (None, 40, 4)             16        \n",
      "_________________________________________________________________\n",
      "activation_9 (Activation)    (None, 40, 4)             0         \n",
      "_________________________________________________________________\n",
      "conv1d_10 (Conv1D)           (None, 10, 16)            1040      \n",
      "_________________________________________________________________\n",
      "dropout_14 (Dropout)         (None, 10, 16)            0         \n",
      "_________________________________________________________________\n",
      "average_pooling1d_10 (Averag (None, 2, 16)             0         \n",
      "_________________________________________________________________\n",
      "batch_normalization_10 (Batc (None, 2, 16)             64        \n",
      "_________________________________________________________________\n",
      "activation_10 (Activation)   (None, 2, 16)             0         \n",
      "_________________________________________________________________\n",
      "flatten_5 (Flatten)          (None, 32)                0         \n",
      "_________________________________________________________________\n",
      "dropout_15 (Dropout)         (None, 32)                0         \n",
      "_________________________________________________________________\n",
      "dense_5 (Dense)              (None, 5)                 165       \n",
      "=================================================================\n",
      "Total params: 3,849\n",
      "Trainable params: 3,809\n",
      "Non-trainable params: 40\n",
      "_________________________________________________________________\n"
     ]
    }
   ],
   "source": [
    "m.summary()"
   ]
  },
  {
   "cell_type": "code",
   "execution_count": 39,
   "metadata": {
    "scrolled": true
   },
   "outputs": [
    {
     "name": "stdout",
     "output_type": "stream",
     "text": [
      "Epoch 1/150\n",
      "400/400 [==============================] - 1s 3ms/step - loss: 2.1578 - categorical_accuracy: 0.1975\n",
      "Epoch 2/150\n",
      "400/400 [==============================] - 0s 1ms/step - loss: 1.9353 - categorical_accuracy: 0.2425\n",
      "Epoch 3/150\n",
      "400/400 [==============================] - 0s 1ms/step - loss: 1.6856 - categorical_accuracy: 0.3075\n",
      "Epoch 4/150\n",
      "400/400 [==============================] - 0s 1ms/step - loss: 1.6259 - categorical_accuracy: 0.3025\n",
      "Epoch 5/150\n",
      "400/400 [==============================] - 0s 1ms/step - loss: 1.5034 - categorical_accuracy: 0.3150\n",
      "Epoch 6/150\n",
      "400/400 [==============================] - 0s 1ms/step - loss: 1.4449 - categorical_accuracy: 0.3600\n",
      "Epoch 7/150\n",
      "400/400 [==============================] - 0s 1ms/step - loss: 1.4094 - categorical_accuracy: 0.3825\n",
      "Epoch 8/150\n",
      "400/400 [==============================] - 0s 1ms/step - loss: 1.3688 - categorical_accuracy: 0.4325\n",
      "Epoch 9/150\n",
      "400/400 [==============================] - 0s 1ms/step - loss: 1.4094 - categorical_accuracy: 0.4050\n",
      "Epoch 10/150\n",
      "400/400 [==============================] - 0s 1ms/step - loss: 1.3131 - categorical_accuracy: 0.4600\n",
      "Epoch 11/150\n",
      "400/400 [==============================] - 0s 1ms/step - loss: 1.2800 - categorical_accuracy: 0.4625\n",
      "Epoch 12/150\n",
      "400/400 [==============================] - 0s 1ms/step - loss: 1.3072 - categorical_accuracy: 0.4375\n",
      "Epoch 13/150\n",
      "400/400 [==============================] - 0s 1ms/step - loss: 1.1887 - categorical_accuracy: 0.5300\n",
      "Epoch 14/150\n",
      "400/400 [==============================] - 0s 977us/step - loss: 1.1757 - categorical_accuracy: 0.5000\n",
      "Epoch 15/150\n",
      "400/400 [==============================] - 0s 1ms/step - loss: 1.1556 - categorical_accuracy: 0.5425\n",
      "Epoch 16/150\n",
      "400/400 [==============================] - 0s 1ms/step - loss: 1.2337 - categorical_accuracy: 0.4975\n",
      "Epoch 17/150\n",
      "400/400 [==============================] - 0s 1ms/step - loss: 1.1343 - categorical_accuracy: 0.5350\n",
      "Epoch 18/150\n",
      "400/400 [==============================] - 0s 977us/step - loss: 1.1715 - categorical_accuracy: 0.5175\n",
      "Epoch 19/150\n",
      "400/400 [==============================] - 0s 1ms/step - loss: 1.1077 - categorical_accuracy: 0.5075\n",
      "Epoch 20/150\n",
      "400/400 [==============================] - 0s 1ms/step - loss: 1.0925 - categorical_accuracy: 0.5750\n",
      "Epoch 21/150\n",
      "400/400 [==============================] - 0s 977us/step - loss: 1.0296 - categorical_accuracy: 0.5800\n",
      "Epoch 22/150\n",
      "400/400 [==============================] - 0s 1ms/step - loss: 1.0773 - categorical_accuracy: 0.5600\n",
      "Epoch 23/150\n",
      "400/400 [==============================] - 0s 1ms/step - loss: 1.0971 - categorical_accuracy: 0.5550\n",
      "Epoch 24/150\n",
      "400/400 [==============================] - 0s 977us/step - loss: 1.0476 - categorical_accuracy: 0.5875\n",
      "Epoch 25/150\n",
      "400/400 [==============================] - 0s 991us/step - loss: 1.0117 - categorical_accuracy: 0.6275\n",
      "Epoch 26/150\n",
      "400/400 [==============================] - 0s 1ms/step - loss: 0.9840 - categorical_accuracy: 0.6125\n",
      "Epoch 27/150\n",
      "400/400 [==============================] - 0s 1ms/step - loss: 0.9702 - categorical_accuracy: 0.6225\n",
      "Epoch 28/150\n",
      "400/400 [==============================] - 0s 1ms/step - loss: 0.9473 - categorical_accuracy: 0.6300\n",
      "Epoch 29/150\n",
      "400/400 [==============================] - 0s 977us/step - loss: 0.9325 - categorical_accuracy: 0.6425\n",
      "Epoch 30/150\n",
      "400/400 [==============================] - 0s 1ms/step - loss: 0.9843 - categorical_accuracy: 0.6275\n",
      "Epoch 31/150\n",
      "400/400 [==============================] - 0s 977us/step - loss: 0.9358 - categorical_accuracy: 0.6525\n",
      "Epoch 32/150\n",
      "400/400 [==============================] - 0s 1ms/step - loss: 0.9050 - categorical_accuracy: 0.6600\n",
      "Epoch 33/150\n",
      "400/400 [==============================] - 0s 977us/step - loss: 0.9212 - categorical_accuracy: 0.6625\n",
      "Epoch 34/150\n",
      "400/400 [==============================] - 0s 1ms/step - loss: 0.9225 - categorical_accuracy: 0.6425\n",
      "Epoch 35/150\n",
      "400/400 [==============================] - 0s 1ms/step - loss: 0.9244 - categorical_accuracy: 0.6300\n",
      "Epoch 36/150\n",
      "400/400 [==============================] - 0s 1ms/step - loss: 0.8791 - categorical_accuracy: 0.6600\n",
      "Epoch 37/150\n",
      "400/400 [==============================] - 0s 995us/step - loss: 0.8659 - categorical_accuracy: 0.6600\n",
      "Epoch 38/150\n",
      "400/400 [==============================] - 0s 979us/step - loss: 0.9051 - categorical_accuracy: 0.6475\n",
      "Epoch 39/150\n",
      "400/400 [==============================] - 0s 1ms/step - loss: 0.8273 - categorical_accuracy: 0.6850\n",
      "Epoch 40/150\n",
      "400/400 [==============================] - 0s 1ms/step - loss: 0.8881 - categorical_accuracy: 0.6825\n",
      "Epoch 41/150\n",
      "400/400 [==============================] - 0s 1ms/step - loss: 0.8527 - categorical_accuracy: 0.6750\n",
      "Epoch 42/150\n",
      "400/400 [==============================] - 0s 1ms/step - loss: 0.9297 - categorical_accuracy: 0.6625\n",
      "Epoch 43/150\n",
      "400/400 [==============================] - 0s 1ms/step - loss: 0.8395 - categorical_accuracy: 0.6875\n",
      "Epoch 44/150\n",
      "400/400 [==============================] - 0s 1ms/step - loss: 0.8651 - categorical_accuracy: 0.6525\n",
      "Epoch 45/150\n",
      "400/400 [==============================] - 0s 977us/step - loss: 0.8786 - categorical_accuracy: 0.6775\n",
      "Epoch 46/150\n",
      "400/400 [==============================] - 0s 1ms/step - loss: 0.8067 - categorical_accuracy: 0.6700\n",
      "Epoch 47/150\n",
      "400/400 [==============================] - 0s 1ms/step - loss: 0.8338 - categorical_accuracy: 0.6950\n",
      "Epoch 48/150\n",
      "400/400 [==============================] - 0s 1ms/step - loss: 0.8120 - categorical_accuracy: 0.6925\n",
      "Epoch 49/150\n",
      "400/400 [==============================] - 0s 1ms/step - loss: 0.8272 - categorical_accuracy: 0.6950\n",
      "Epoch 50/150\n",
      "400/400 [==============================] - 0s 1ms/step - loss: 0.8086 - categorical_accuracy: 0.6825\n",
      "Epoch 51/150\n",
      "400/400 [==============================] - 0s 1ms/step - loss: 0.8446 - categorical_accuracy: 0.6675\n",
      "Epoch 52/150\n",
      "400/400 [==============================] - 0s 1ms/step - loss: 0.8088 - categorical_accuracy: 0.6675\n",
      "Epoch 53/150\n",
      "400/400 [==============================] - 0s 1ms/step - loss: 0.8130 - categorical_accuracy: 0.6775\n",
      "Epoch 54/150\n",
      "400/400 [==============================] - 0s 991us/step - loss: 0.8369 - categorical_accuracy: 0.6775\n",
      "Epoch 55/150\n",
      "400/400 [==============================] - 0s 1ms/step - loss: 0.7785 - categorical_accuracy: 0.7050\n",
      "Epoch 56/150\n",
      "400/400 [==============================] - 0s 1ms/step - loss: 0.7737 - categorical_accuracy: 0.7150\n",
      "Epoch 57/150\n",
      "400/400 [==============================] - 0s 1ms/step - loss: 0.7862 - categorical_accuracy: 0.7000\n",
      "Epoch 58/150\n",
      "400/400 [==============================] - 0s 1ms/step - loss: 0.7883 - categorical_accuracy: 0.7200\n",
      "Epoch 59/150\n",
      "400/400 [==============================] - 0s 1ms/step - loss: 0.7990 - categorical_accuracy: 0.7025\n",
      "Epoch 60/150\n",
      "400/400 [==============================] - 0s 1ms/step - loss: 0.7732 - categorical_accuracy: 0.7075\n",
      "Epoch 61/150\n",
      "400/400 [==============================] - 0s 994us/step - loss: 0.8259 - categorical_accuracy: 0.6775\n",
      "Epoch 62/150\n",
      "400/400 [==============================] - 0s 1ms/step - loss: 0.7867 - categorical_accuracy: 0.7025\n",
      "Epoch 63/150\n",
      "400/400 [==============================] - 0s 1ms/step - loss: 0.7868 - categorical_accuracy: 0.6950\n",
      "Epoch 64/150\n",
      "400/400 [==============================] - 0s 1ms/step - loss: 0.7682 - categorical_accuracy: 0.6975\n",
      "Epoch 65/150\n",
      "400/400 [==============================] - 0s 1ms/step - loss: 0.7226 - categorical_accuracy: 0.7325\n",
      "Epoch 66/150\n",
      "400/400 [==============================] - 0s 1ms/step - loss: 0.7599 - categorical_accuracy: 0.6975\n",
      "Epoch 67/150\n",
      "400/400 [==============================] - 0s 999us/step - loss: 0.7136 - categorical_accuracy: 0.7425\n",
      "Epoch 68/150\n",
      "400/400 [==============================] - 0s 1ms/step - loss: 0.7580 - categorical_accuracy: 0.7200\n",
      "Epoch 69/150\n",
      "400/400 [==============================] - 0s 1ms/step - loss: 0.7923 - categorical_accuracy: 0.7025\n",
      "Epoch 70/150\n",
      "400/400 [==============================] - 0s 993us/step - loss: 0.7569 - categorical_accuracy: 0.7375\n",
      "Epoch 71/150\n",
      "400/400 [==============================] - 0s 994us/step - loss: 0.7365 - categorical_accuracy: 0.7250\n",
      "Epoch 72/150\n"
     ]
    },
    {
     "name": "stdout",
     "output_type": "stream",
     "text": [
      "400/400 [==============================] - 0s 1ms/step - loss: 0.7759 - categorical_accuracy: 0.7075\n",
      "Epoch 73/150\n",
      "400/400 [==============================] - 0s 1ms/step - loss: 0.7298 - categorical_accuracy: 0.7575\n",
      "Epoch 74/150\n",
      "400/400 [==============================] - 0s 1ms/step - loss: 0.7822 - categorical_accuracy: 0.7100\n",
      "Epoch 75/150\n",
      "400/400 [==============================] - 0s 1ms/step - loss: 0.7739 - categorical_accuracy: 0.7175\n",
      "Epoch 76/150\n",
      "400/400 [==============================] - 0s 981us/step - loss: 0.7335 - categorical_accuracy: 0.7400\n",
      "Epoch 77/150\n",
      "400/400 [==============================] - 0s 1ms/step - loss: 0.7492 - categorical_accuracy: 0.7525\n",
      "Epoch 78/150\n",
      "400/400 [==============================] - 0s 1ms/step - loss: 0.6984 - categorical_accuracy: 0.7350\n",
      "Epoch 79/150\n",
      "400/400 [==============================] - 0s 1ms/step - loss: 0.7409 - categorical_accuracy: 0.7300\n",
      "Epoch 80/150\n",
      "400/400 [==============================] - 0s 998us/step - loss: 0.6962 - categorical_accuracy: 0.7650\n",
      "Epoch 81/150\n",
      "400/400 [==============================] - 0s 992us/step - loss: 0.6832 - categorical_accuracy: 0.7225\n",
      "Epoch 82/150\n",
      "400/400 [==============================] - 0s 1ms/step - loss: 0.7378 - categorical_accuracy: 0.7350\n",
      "Epoch 83/150\n",
      "400/400 [==============================] - 0s 1ms/step - loss: 0.6969 - categorical_accuracy: 0.7400\n",
      "Epoch 84/150\n",
      "400/400 [==============================] - 0s 1ms/step - loss: 0.7119 - categorical_accuracy: 0.7225\n",
      "Epoch 85/150\n",
      "400/400 [==============================] - 0s 1ms/step - loss: 0.7120 - categorical_accuracy: 0.7225\n",
      "Epoch 86/150\n",
      "400/400 [==============================] - 0s 1ms/step - loss: 0.7275 - categorical_accuracy: 0.7375\n",
      "Epoch 87/150\n",
      "400/400 [==============================] - 0s 995us/step - loss: 0.6740 - categorical_accuracy: 0.7650\n",
      "Epoch 88/150\n",
      "400/400 [==============================] - 0s 1ms/step - loss: 0.7289 - categorical_accuracy: 0.7275\n",
      "Epoch 89/150\n",
      "400/400 [==============================] - 0s 1ms/step - loss: 0.7190 - categorical_accuracy: 0.7350\n",
      "Epoch 90/150\n",
      "400/400 [==============================] - 0s 1ms/step - loss: 0.7158 - categorical_accuracy: 0.7200\n",
      "Epoch 91/150\n",
      "400/400 [==============================] - 0s 1ms/step - loss: 0.6535 - categorical_accuracy: 0.7700\n",
      "Epoch 92/150\n",
      "400/400 [==============================] - 0s 1ms/step - loss: 0.7052 - categorical_accuracy: 0.7350\n",
      "Epoch 93/150\n",
      "400/400 [==============================] - 0s 1ms/step - loss: 0.7015 - categorical_accuracy: 0.7250\n",
      "Epoch 94/150\n",
      "400/400 [==============================] - 0s 977us/step - loss: 0.6662 - categorical_accuracy: 0.7650\n",
      "Epoch 95/150\n",
      "400/400 [==============================] - 0s 1ms/step - loss: 0.7281 - categorical_accuracy: 0.7225\n",
      "Epoch 96/150\n",
      "400/400 [==============================] - 0s 1ms/step - loss: 0.7003 - categorical_accuracy: 0.7175\n",
      "Epoch 97/150\n",
      "400/400 [==============================] - 0s 1ms/step - loss: 0.7015 - categorical_accuracy: 0.7600\n",
      "Epoch 98/150\n",
      "400/400 [==============================] - 0s 1ms/step - loss: 0.7002 - categorical_accuracy: 0.7300\n",
      "Epoch 99/150\n",
      "400/400 [==============================] - 0s 1ms/step - loss: 0.6491 - categorical_accuracy: 0.7675\n",
      "Epoch 100/150\n",
      "400/400 [==============================] - 0s 1ms/step - loss: 0.7518 - categorical_accuracy: 0.7175\n",
      "Epoch 101/150\n",
      "400/400 [==============================] - 0s 1ms/step - loss: 0.6670 - categorical_accuracy: 0.7450\n",
      "Epoch 102/150\n",
      "400/400 [==============================] - 0s 1ms/step - loss: 0.6636 - categorical_accuracy: 0.7425\n",
      "Epoch 103/150\n",
      "400/400 [==============================] - 0s 1ms/step - loss: 0.6515 - categorical_accuracy: 0.7675\n",
      "Epoch 104/150\n",
      "400/400 [==============================] - 0s 1ms/step - loss: 0.6422 - categorical_accuracy: 0.7750\n",
      "Epoch 105/150\n",
      "400/400 [==============================] - 0s 1ms/step - loss: 0.6985 - categorical_accuracy: 0.7775\n",
      "Epoch 106/150\n",
      "400/400 [==============================] - 0s 1ms/step - loss: 0.6945 - categorical_accuracy: 0.7350\n",
      "Epoch 107/150\n",
      "400/400 [==============================] - 0s 1ms/step - loss: 0.6863 - categorical_accuracy: 0.7575\n",
      "Epoch 108/150\n",
      "400/400 [==============================] - 0s 1ms/step - loss: 0.6923 - categorical_accuracy: 0.7200\n",
      "Epoch 109/150\n",
      "400/400 [==============================] - 0s 1ms/step - loss: 0.7015 - categorical_accuracy: 0.7375\n",
      "Epoch 110/150\n",
      "400/400 [==============================] - 0s 1ms/step - loss: 0.6652 - categorical_accuracy: 0.7650\n",
      "Epoch 111/150\n",
      "400/400 [==============================] - 0s 1ms/step - loss: 0.6816 - categorical_accuracy: 0.7475\n",
      "Epoch 112/150\n",
      "400/400 [==============================] - 0s 1ms/step - loss: 0.7009 - categorical_accuracy: 0.7400\n",
      "Epoch 113/150\n",
      "400/400 [==============================] - 0s 1ms/step - loss: 0.6889 - categorical_accuracy: 0.7450\n",
      "Epoch 114/150\n",
      "400/400 [==============================] - 0s 1ms/step - loss: 0.6669 - categorical_accuracy: 0.7550\n",
      "Epoch 115/150\n",
      "400/400 [==============================] - 0s 1ms/step - loss: 0.6612 - categorical_accuracy: 0.7625: 0s - loss: 0.6572 - categorical_accuracy: 0.76\n",
      "Epoch 116/150\n",
      "400/400 [==============================] - 0s 1ms/step - loss: 0.6784 - categorical_accuracy: 0.7375\n",
      "Epoch 117/150\n",
      "400/400 [==============================] - 0s 1ms/step - loss: 0.6764 - categorical_accuracy: 0.7350\n",
      "Epoch 118/150\n",
      "400/400 [==============================] - 0s 1ms/step - loss: 0.6758 - categorical_accuracy: 0.7525\n",
      "Epoch 119/150\n",
      "400/400 [==============================] - 0s 993us/step - loss: 0.6774 - categorical_accuracy: 0.7725\n",
      "Epoch 120/150\n",
      "400/400 [==============================] - 0s 1ms/step - loss: 0.6230 - categorical_accuracy: 0.7625\n",
      "Epoch 121/150\n",
      "400/400 [==============================] - 0s 1ms/step - loss: 0.6724 - categorical_accuracy: 0.7600\n",
      "Epoch 122/150\n",
      "400/400 [==============================] - 0s 1ms/step - loss: 0.6588 - categorical_accuracy: 0.7525\n",
      "Epoch 123/150\n",
      "400/400 [==============================] - 0s 997us/step - loss: 0.6043 - categorical_accuracy: 0.7800\n",
      "Epoch 124/150\n",
      "400/400 [==============================] - 0s 1ms/step - loss: 0.6759 - categorical_accuracy: 0.7400\n",
      "Epoch 125/150\n",
      "400/400 [==============================] - 0s 1ms/step - loss: 0.7132 - categorical_accuracy: 0.7425\n",
      "Epoch 126/150\n",
      "400/400 [==============================] - 0s 1ms/step - loss: 0.7108 - categorical_accuracy: 0.7325\n",
      "Epoch 127/150\n",
      "400/400 [==============================] - 0s 1ms/step - loss: 0.6561 - categorical_accuracy: 0.7425\n",
      "Epoch 128/150\n",
      "400/400 [==============================] - 0s 1ms/step - loss: 0.6617 - categorical_accuracy: 0.7725\n",
      "Epoch 129/150\n",
      "400/400 [==============================] - 0s 1ms/step - loss: 0.7031 - categorical_accuracy: 0.7425\n",
      "Epoch 130/150\n",
      "400/400 [==============================] - 0s 996us/step - loss: 0.6693 - categorical_accuracy: 0.7450\n",
      "Epoch 131/150\n",
      "400/400 [==============================] - 0s 1ms/step - loss: 0.6817 - categorical_accuracy: 0.7350\n",
      "Epoch 132/150\n",
      "400/400 [==============================] - 0s 1ms/step - loss: 0.6305 - categorical_accuracy: 0.7750\n",
      "Epoch 133/150\n",
      "400/400 [==============================] - 0s 1ms/step - loss: 0.6558 - categorical_accuracy: 0.7575\n",
      "Epoch 134/150\n",
      "400/400 [==============================] - 0s 1ms/step - loss: 0.6435 - categorical_accuracy: 0.7550\n",
      "Epoch 135/150\n",
      "400/400 [==============================] - 0s 1ms/step - loss: 0.6010 - categorical_accuracy: 0.7925\n",
      "Epoch 136/150\n",
      "400/400 [==============================] - 0s 998us/step - loss: 0.6175 - categorical_accuracy: 0.7625\n",
      "Epoch 137/150\n",
      "400/400 [==============================] - 0s 1ms/step - loss: 0.6837 - categorical_accuracy: 0.7675\n",
      "Epoch 138/150\n",
      "400/400 [==============================] - 0s 1ms/step - loss: 0.6411 - categorical_accuracy: 0.7750\n",
      "Epoch 139/150\n",
      "400/400 [==============================] - 0s 1ms/step - loss: 0.6368 - categorical_accuracy: 0.7525\n",
      "Epoch 140/150\n",
      "400/400 [==============================] - 0s 1ms/step - loss: 0.6350 - categorical_accuracy: 0.7725\n",
      "Epoch 141/150\n",
      "400/400 [==============================] - 0s 1ms/step - loss: 0.6024 - categorical_accuracy: 0.8000\n",
      "Epoch 142/150\n",
      "400/400 [==============================] - 0s 1ms/step - loss: 0.6641 - categorical_accuracy: 0.7475\n",
      "Epoch 143/150\n"
     ]
    },
    {
     "name": "stdout",
     "output_type": "stream",
     "text": [
      "400/400 [==============================] - 0s 1ms/step - loss: 0.6177 - categorical_accuracy: 0.7650\n",
      "Epoch 144/150\n",
      "400/400 [==============================] - 0s 1ms/step - loss: 0.5801 - categorical_accuracy: 0.7675\n",
      "Epoch 145/150\n",
      "400/400 [==============================] - 0s 1ms/step - loss: 0.6076 - categorical_accuracy: 0.7900\n",
      "Epoch 146/150\n",
      "400/400 [==============================] - 0s 1ms/step - loss: 0.6656 - categorical_accuracy: 0.7350\n",
      "Epoch 147/150\n",
      "400/400 [==============================] - 0s 1ms/step - loss: 0.6562 - categorical_accuracy: 0.7475\n",
      "Epoch 148/150\n",
      "400/400 [==============================] - 0s 1ms/step - loss: 0.6203 - categorical_accuracy: 0.7800\n",
      "Epoch 149/150\n",
      "400/400 [==============================] - 0s 1ms/step - loss: 0.6271 - categorical_accuracy: 0.7425\n",
      "Epoch 150/150\n",
      "400/400 [==============================] - 0s 1ms/step - loss: 0.6229 - categorical_accuracy: 0.7575\n"
     ]
    },
    {
     "data": {
      "text/plain": [
       "<keras.callbacks.History at 0x208a9fe0048>"
      ]
     },
     "execution_count": 39,
     "metadata": {},
     "output_type": "execute_result"
    }
   ],
   "source": [
    "m.fit(X_train, Y_train, epochs=150, batch_size=64)"
   ]
  },
  {
   "cell_type": "code",
   "execution_count": 40,
   "metadata": {},
   "outputs": [
    {
     "name": "stdout",
     "output_type": "stream",
     "text": [
      "100/100 [==============================] - 0s 4ms/step\n",
      "Loss = 0.6301189586520195\n",
      "Test Accuracy = 0.76\n"
     ]
    }
   ],
   "source": [
    "preds = m.evaluate(X_test, Y_test)\n",
    "print (\"Loss = \" + str(preds[0]))\n",
    "print (\"Test Accuracy = \" + str(preds[1]))"
   ]
  },
  {
   "cell_type": "markdown",
   "metadata": {},
   "source": [
    "### Feature extraction\n",
    "\n",
    "Here we want to use the neural network that we trained to extract features"
   ]
  },
  {
   "cell_type": "code",
   "execution_count": 41,
   "metadata": {},
   "outputs": [
    {
     "data": {
      "text/plain": [
       "[<keras.engine.input_layer.InputLayer at 0x208a8ca0438>,\n",
       " <keras.layers.convolutional.Conv1D at 0x208a8ca05c0>,\n",
       " <keras.layers.core.Dropout at 0x208a8ca0a90>,\n",
       " <keras.layers.pooling.AveragePooling1D at 0x208a8c70fd0>,\n",
       " <keras.layers.normalization.BatchNormalization at 0x208a8c64668>,\n",
       " <keras.layers.core.Activation at 0x208a8c64908>,\n",
       " <keras.layers.convolutional.Conv1D at 0x208a8c5b0b8>,\n",
       " <keras.layers.core.Dropout at 0x208a9e04198>,\n",
       " <keras.layers.pooling.AveragePooling1D at 0x208a9e04240>,\n",
       " <keras.layers.normalization.BatchNormalization at 0x208a9e34c18>,\n",
       " <keras.layers.core.Activation at 0x208a9e34d30>,\n",
       " <keras.layers.core.Flatten at 0x208a9eb7dd8>,\n",
       " <keras.layers.core.Dropout at 0x208a9e70ba8>,\n",
       " <keras.layers.core.Dense at 0x208a9e70d30>]"
      ]
     },
     "execution_count": 41,
     "metadata": {},
     "output_type": "execute_result"
    }
   ],
   "source": [
    "model = m\n",
    "model.layers"
   ]
  },
  {
   "cell_type": "code",
   "execution_count": 42,
   "metadata": {},
   "outputs": [
    {
     "name": "stdout",
     "output_type": "stream",
     "text": [
      "<keras.layers.core.Activation object at 0x00000208A8C64908> <keras.layers.core.Flatten object at 0x00000208A9EB7DD8>\n"
     ]
    }
   ],
   "source": [
    "print(model.layers[5], model.layers[11])\n"
   ]
  },
  {
   "cell_type": "code",
   "execution_count": 43,
   "metadata": {},
   "outputs": [],
   "source": [
    "def extract_all_features(X, model, layer_nums, batch_num):\n",
    "    \"\"\"Extract all the features by taking out the activation output of the layers specified in layer_nums\n",
    "    \n",
    "        X : the data that we are trying to extract features from\n",
    "        model: the model that we are using to extract the features\n",
    "        layer_nums: the layer number that we want to use as feature extractors\n",
    "    \"\"\"\n",
    "    outputs = [model.layers[layer].output for layer in layer_nums]\n",
    "    f = keras.backend.function([model.input, keras.backend.learning_phase()], outputs)\n",
    "    ## split up into smaller chunks\n",
    "    layer_outs = []\n",
    "    m = X.shape[0]\n",
    "    for i in range(batch_num):\n",
    "        layer_outs += [f([X[(m // batch_num * i):(m // batch_num * (i+1)), :, :], 0.])]\n",
    "    result = []\n",
    "    for i in range(len(layer_nums)):\n",
    "        layer_outs2 = []\n",
    "        for batch in range(batch_num):\n",
    "            activations = layer_outs[batch][i]\n",
    "            activations = activations.reshape(activations.shape[0], -1)\n",
    "            layer_outs2 += [activations]\n",
    "        result += [np.vstack(np.array(layer_outs2))]\n",
    "    return result"
   ]
  },
  {
   "cell_type": "code",
   "execution_count": 70,
   "metadata": {},
   "outputs": [],
   "source": [
    "layer_outs_train = extract_all_features(X_train, model, [5, 11], 10)"
   ]
  },
  {
   "cell_type": "code",
   "execution_count": 44,
   "metadata": {},
   "outputs": [],
   "source": [
    "layer_outs_test = extract_all_features(X_test, model, [5, 11], 1)"
   ]
  },
  {
   "cell_type": "code",
   "execution_count": 77,
   "metadata": {},
   "outputs": [],
   "source": [
    "conv_3_train, conv_2_train, conv_1_train = layer_outs_train\n",
    "conv_3_test, conv_2_test, conv_1_test = layer_outs_test\n",
    "np.savetxt('conv_3_train.txt', conv_3_train)\n",
    "np.savetxt('conv_2_train.txt', conv_2_train)\n",
    "np.savetxt('conv_1_train.txt', conv_1_train)\n",
    "np.savetxt('conv_3_test.txt', conv_3_test)\n",
    "np.savetxt('conv_2_test.txt', conv_2_test)\n",
    "np.savetxt('conv_1_test.txt', conv_1_test)\n",
    "np.savetxt('Y_train.txt', Y_train)\n",
    "np.savetxt('Y_test.txt', Y_test)"
   ]
  },
  {
   "cell_type": "code",
   "execution_count": 78,
   "metadata": {},
   "outputs": [],
   "source": [
    "np.save('X_train.npy', X_train)\n",
    "np.save('X_test.npy', X_test)"
   ]
  },
  {
   "cell_type": "code",
   "execution_count": null,
   "metadata": {},
   "outputs": [],
   "source": []
  }
 ],
 "metadata": {
  "kernelspec": {
   "display_name": "Python 3",
   "language": "python",
   "name": "python3"
  },
  "language_info": {
   "codemirror_mode": {
    "name": "ipython",
    "version": 3
   },
   "file_extension": ".py",
   "mimetype": "text/x-python",
   "name": "python",
   "nbconvert_exporter": "python",
   "pygments_lexer": "ipython3",
   "version": "3.6.6"
  }
 },
 "nbformat": 4,
 "nbformat_minor": 2
}
