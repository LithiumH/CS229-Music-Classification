{
 "cells": [
  {
   "cell_type": "markdown",
   "metadata": {},
   "source": [
    "# Feature Extraction using CNN\n",
    "\n",
    "Here we are attempting to train a small Convolution Neural Network to see if the neural network can extract features that can help us improve our classical algorithms.\n",
    "\n",
    "One thing we are concerned about is the fact that classical algorithms cannot perform better tha CNNs. However, we aim to improve classical algorithms because they can run at a much faster speed. So if our CNN feature extractor paired with classical algorithms can perform just as well as original CNNs, it is promising that we can apply this to large datasets that CNN will take too long to run. One other thing is we can run classical algorithms in real time, meaning we can classify music much faster in real time than passing it through a CNN\n",
    "\n",
    "This file will contain all code to extract features."
   ]
  },
  {
   "cell_type": "code",
   "execution_count": 1,
   "metadata": {},
   "outputs": [
    {
     "name": "stderr",
     "output_type": "stream",
     "text": [
      "Using TensorFlow backend.\n"
     ]
    }
   ],
   "source": [
    "import os\n",
    "import keras\n",
    "import numpy as np\n",
    "import sklearn.model_selection as ms\n",
    "import matplotlib.pyplot as plt\n",
    "import librosa\n",
    "import librosa.display as display"
   ]
  },
  {
   "cell_type": "code",
   "execution_count": 2,
   "metadata": {},
   "outputs": [],
   "source": [
    "import tensorflow as tf\n",
    "from keras.backend.tensorflow_backend import set_session\n",
    "\n",
    "config = tf.ConfigProto()\n",
    "config.gpu_options.allow_growth = True\n",
    "session = tf.Session(config=config)\n",
    "set_session(session)"
   ]
  },
  {
   "cell_type": "markdown",
   "metadata": {},
   "source": [
    "## Data loading\n",
    "\n",
    "First we will load out date into the notebook so we can process them easily"
   ]
  },
  {
   "cell_type": "code",
   "execution_count": 3,
   "metadata": {},
   "outputs": [],
   "source": [
    "X = np.load('data_mat/X2.npy')\n",
    "Y = np.load('data_mat/Y2.npy')"
   ]
  },
  {
   "cell_type": "code",
   "execution_count": 4,
   "metadata": {},
   "outputs": [
    {
     "name": "stdout",
     "output_type": "stream",
     "text": [
      "training X shape is (500, 20, 1290)\n",
      "training Y shape is (500, 5)\n"
     ]
    }
   ],
   "source": [
    "print(\"training X shape is {0}\".format(X.shape))\n",
    "print(\"training Y shape is {0}\".format(Y.shape))"
   ]
  },
  {
   "cell_type": "markdown",
   "metadata": {},
   "source": [
    "To apply the training set to the model easier, we will transform our data and split them so they can be fed into the models."
   ]
  },
  {
   "cell_type": "code",
   "execution_count": 5,
   "metadata": {},
   "outputs": [
    {
     "data": {
      "text/plain": [
       "<matplotlib.image.AxesImage at 0x201c9e87978>"
      ]
     },
     "execution_count": 5,
     "metadata": {},
     "output_type": "execute_result"
    },
    {
     "data": {
      "image/png": "[encoded data removed]",
      "text/plain": [
       "<Figure size 432x288 with 1 Axes>"
      ]
     },
     "metadata": {
      "needs_background": "light"
     },
     "output_type": "display_data"
    }
   ],
   "source": [
    "plt.imshow(X[0][:, :100])"
   ]
  },
  {
   "cell_type": "code",
   "execution_count": 6,
   "metadata": {},
   "outputs": [
    {
     "name": "stdout",
     "output_type": "stream",
     "text": [
      "training X shape is (500, 1290, 20)\n"
     ]
    },
    {
     "data": {
      "text/plain": [
       "<matplotlib.image.AxesImage at 0x201c9f119b0>"
      ]
     },
     "execution_count": 6,
     "metadata": {},
     "output_type": "execute_result"
    },
    {
     "data": {
      "image/png": "[encoded data removed]",
      "text/plain": [
       "<Figure size 432x288 with 1 Axes>"
      ]
     },
     "metadata": {
      "needs_background": "light"
     },
     "output_type": "display_data"
    }
   ],
   "source": [
    "X2 = np.transpose(X, (0, 2, 1))\n",
    "print(\"training X shape is {0}\".format(X2.shape))\n",
    "plt.imshow(X2[0][:100, :])"
   ]
  },
  {
   "cell_type": "code",
   "execution_count": 7,
   "metadata": {},
   "outputs": [
    {
     "name": "stdout",
     "output_type": "stream",
     "text": [
      "(400, 1290, 20) (100, 1290, 20) (400, 5) (100, 5)\n"
     ]
    }
   ],
   "source": [
    "inds = np.arange(X2.shape[0])\n",
    "np.random.shuffle(inds)\n",
    "X_train, X_test, Y_train, Y_test = ms.train_test_split(X2[inds], Y[inds], test_size=0.2, random_state=123)\n",
    "print(X_train.shape, X_test.shape, Y_train.shape, Y_test.shape)"
   ]
  },
  {
   "cell_type": "markdown",
   "metadata": {},
   "source": [
    "## CNN modeling\n",
    "\n",
    "Here we will use a 1D convolution layer, followed by standard pool, relu layers, followed by dense layers and then a softmax unit for output prediction."
   ]
  },
  {
   "cell_type": "code",
   "execution_count": 8,
   "metadata": {},
   "outputs": [],
   "source": [
    "def model(input_shape):\n",
    "    X_inputs = keras.layers.Input(input_shape)\n",
    "    X = X_inputs\n",
    "    print(X.shape)\n",
    "    X = keras.layers.Conv1D(filters=4, kernel_size=32, dilation_rate=8,\n",
    "                            padding='same', data_format=\"channels_last\")(X)\n",
    "    print(X.shape)\n",
    "    X = keras.layers.Dropout(0.5)(X)    \n",
    "    X = keras.layers.AveragePooling1D(pool_size=32)(X)\n",
    "    X = keras.layers.BatchNormalization(axis = 2)(X)\n",
    "    X = keras.layers.Activation('relu')(X)\n",
    "    print(X.shape)\n",
    "#     X = keras.layers.Dropout(0.7)(X)    \n",
    "    X = keras.layers.Conv1D(filters=20, kernel_size=16, dilation_rate=2, padding='valid', data_format=\"channels_last\")(X)\n",
    "    X = keras.layers.Dropout(0.5)(X)    \n",
    "    X = keras.layers.AveragePooling1D(pool_size=4)(X)\n",
    "    X = keras.layers.BatchNormalization(axis = 2)(X)\n",
    "    X = keras.layers.Activation('relu')(X)\n",
    "    print(X.shape)\n",
    "#     X = keras.layers.Dropout(0.5)(X)    \n",
    "#     X = keras.layers.Conv1D(filters=30, kernel_size=4, dilation_rate=1, padding='valid', data_format=\"channels_last\")(X)\n",
    "#     X = keras.layers.Dropout(0.5)(X)    \n",
    "#     X = keras.layers.AveragePooling1D(pool_size=4)(X)\n",
    "#     X = keras.layers.BatchNormalization(axis = 2)(X)\n",
    "#     X = keras.layers.Activation('relu')(X)\n",
    "# #     X = keras.layers.Dropout(0.5)(X)    \n",
    "#     print(X.shape)\n",
    "#     X = keras.layers.Conv1D(filters=8, kernel_size=2, dilation_rate=2, padding='valid', data_format=\"channels_last\")(X)\n",
    "#     X = keras.layers.Dropout(0.5)(X)    \n",
    "#     X = keras.layers.MaxPooling1D(pool_size=2)(X)\n",
    "#     X = keras.layers.BatchNormalization(axis = 2)(X)\n",
    "#     X = keras.layers.Activation('relu')(X)\n",
    "# #     X = keras.layers.Dropout(0.5)(X)    \n",
    "#     print(X.shape)\n",
    "    \n",
    "    X = keras.layers.Flatten()(X)\n",
    "#     X = keras.layers.Dense(20, activation='sigmoid')(X)\n",
    "#     X = keras.layers.Dropout(0.5)(X)    \n",
    "# #     X = keras.layers.Dense(35, activation='sigmoid')(X)\n",
    "#     X = keras.layers.Dense(10, activation='sigmoid')(X)\n",
    "#     X = keras.layers.Dropout(0.5)(X)    \n",
    "#     X = keras.layers.Dense(30, activation='sigmoid')(X)\n",
    "    X = keras.layers.Dropout(0.5)(X)    \n",
    "    X = keras.layers.Dense(5, activation='softmax')(X)\n",
    "    print(X.shape)\n",
    "    \n",
    "    model = keras.models.Model(inputs=X_inputs, outputs=X, name='cnn')\n",
    "    return model"
   ]
  },
  {
   "cell_type": "code",
   "execution_count": 9,
   "metadata": {},
   "outputs": [
    {
     "name": "stdout",
     "output_type": "stream",
     "text": [
      "(?, 1290, 20)\n",
      "(?, 1290, 4)\n",
      "(?, 40, 4)\n",
      "(?, 2, 20)\n",
      "(?, 5)\n"
     ]
    }
   ],
   "source": [
    "m = model(X2.shape[1:])\n",
    "# optimizer = keras.optimizers.Adam(lr=0.01, beta_1=0.9, beta_2=0.999)\n",
    "m.compile(optimizer='adam', loss='categorical_crossentropy', metrics=['categorical_accuracy'])"
   ]
  },
  {
   "cell_type": "code",
   "execution_count": 10,
   "metadata": {},
   "outputs": [
    {
     "name": "stdout",
     "output_type": "stream",
     "text": [
      "_________________________________________________________________\n",
      "Layer (type)                 Output Shape              Param #   \n",
      "=================================================================\n",
      "input_1 (InputLayer)         (None, 1290, 20)          0         \n",
      "_________________________________________________________________\n",
      "conv1d_1 (Conv1D)            (None, 1290, 4)           2564      \n",
      "_________________________________________________________________\n",
      "dropout_1 (Dropout)          (None, 1290, 4)           0         \n",
      "_________________________________________________________________\n",
      "average_pooling1d_1 (Average (None, 40, 4)             0         \n",
      "_________________________________________________________________\n",
      "batch_normalization_1 (Batch (None, 40, 4)             16        \n",
      "_________________________________________________________________\n",
      "activation_1 (Activation)    (None, 40, 4)             0         \n",
      "_________________________________________________________________\n",
      "conv1d_2 (Conv1D)            (None, 10, 20)            1300      \n",
      "_________________________________________________________________\n",
      "dropout_2 (Dropout)          (None, 10, 20)            0         \n",
      "_________________________________________________________________\n",
      "average_pooling1d_2 (Average (None, 2, 20)             0         \n",
      "_________________________________________________________________\n",
      "batch_normalization_2 (Batch (None, 2, 20)             80        \n",
      "_________________________________________________________________\n",
      "activation_2 (Activation)    (None, 2, 20)             0         \n",
      "_________________________________________________________________\n",
      "flatten_1 (Flatten)          (None, 40)                0         \n",
      "_________________________________________________________________\n",
      "dropout_3 (Dropout)          (None, 40)                0         \n",
      "_________________________________________________________________\n",
      "dense_1 (Dense)              (None, 5)                 205       \n",
      "=================================================================\n",
      "Total params: 4,165\n",
      "Trainable params: 4,117\n",
      "Non-trainable params: 48\n",
      "_________________________________________________________________\n"
     ]
    }
   ],
   "source": [
    "m.summary()"
   ]
  },
  {
   "cell_type": "code",
   "execution_count": null,
   "metadata": {
    "scrolled": true
   },
   "outputs": [],
   "source": [
    "m.fit(X_train, Y_train, epochs=10, batch_size=64)"
   ]
  },
  {
   "cell_type": "code",
   "execution_count": 20,
   "metadata": {},
   "outputs": [
    {
     "name": "stdout",
     "output_type": "stream",
     "text": [
      "100/100 [==============================] - 0s 831us/step\n",
      "Loss = 0.8870184230804443\n",
      "Test Accuracy = 0.75\n"
     ]
    }
   ],
   "source": [
    "preds = m.evaluate(X_test, Y_test)\n",
    "print (\"Loss = \" + str(preds[0]))\n",
    "print (\"Test Accuracy = \" + str(preds[1]))"
   ]
  },
  {
   "cell_type": "code",
   "execution_count": 21,
   "metadata": {},
   "outputs": [],
   "source": [
    "m.save('m1.h5')"
   ]
  },
  {
   "cell_type": "markdown",
   "metadata": {},
   "source": [
    "### Feature extraction\n",
    "\n",
    "Here we want to use the neural network that we trained to extract features"
   ]
  },
  {
   "cell_type": "code",
   "execution_count": 41,
   "metadata": {},
   "outputs": [
    {
     "data": {
      "text/plain": [
       "[<keras.engine.input_layer.InputLayer at 0x208a8ca0438>,\n",
       " <keras.layers.convolutional.Conv1D at 0x208a8ca05c0>,\n",
       " <keras.layers.core.Dropout at 0x208a8ca0a90>,\n",
       " <keras.layers.pooling.AveragePooling1D at 0x208a8c70fd0>,\n",
       " <keras.layers.normalization.BatchNormalization at 0x208a8c64668>,\n",
       " <keras.layers.core.Activation at 0x208a8c64908>,\n",
       " <keras.layers.convolutional.Conv1D at 0x208a8c5b0b8>,\n",
       " <keras.layers.core.Dropout at 0x208a9e04198>,\n",
       " <keras.layers.pooling.AveragePooling1D at 0x208a9e04240>,\n",
       " <keras.layers.normalization.BatchNormalization at 0x208a9e34c18>,\n",
       " <keras.layers.core.Activation at 0x208a9e34d30>,\n",
       " <keras.layers.core.Flatten at 0x208a9eb7dd8>,\n",
       " <keras.layers.core.Dropout at 0x208a9e70ba8>,\n",
       " <keras.layers.core.Dense at 0x208a9e70d30>]"
      ]
     },
     "execution_count": 41,
     "metadata": {},
     "output_type": "execute_result"
    }
   ],
   "source": [
    "model = m\n",
    "model.layers"
   ]
  },
  {
   "cell_type": "code",
   "execution_count": 42,
   "metadata": {},
   "outputs": [
    {
     "name": "stdout",
     "output_type": "stream",
     "text": [
      "<keras.layers.core.Activation object at 0x00000208A8C64908> <keras.layers.core.Flatten object at 0x00000208A9EB7DD8>\n"
     ]
    }
   ],
   "source": [
    "print(model.layers[5], model.layers[11])\n"
   ]
  },
  {
   "cell_type": "code",
   "execution_count": 43,
   "metadata": {},
   "outputs": [],
   "source": [
    "def extract_all_features(X, model, layer_nums, batch_num):\n",
    "    \"\"\"Extract all the features by taking out the activation output of the layers specified in layer_nums\n",
    "    \n",
    "        X : the data that we are trying to extract features from\n",
    "        model: the model that we are using to extract the features\n",
    "        layer_nums: the layer number that we want to use as feature extractors\n",
    "    \"\"\"\n",
    "    outputs = [model.layers[layer].output for layer in layer_nums]\n",
    "    f = keras.backend.function([model.input, keras.backend.learning_phase()], outputs)\n",
    "    ## split up into smaller chunks\n",
    "    layer_outs = []\n",
    "    m = X.shape[0]\n",
    "    for i in range(batch_num):\n",
    "        layer_outs += [f([X[(m // batch_num * i):(m // batch_num * (i+1)), :, :], 0.])]\n",
    "    result = []\n",
    "    for i in range(len(layer_nums)):\n",
    "        layer_outs2 = []\n",
    "        for batch in range(batch_num):\n",
    "            activations = layer_outs[batch][i]\n",
    "            activations = activations.reshape(activations.shape[0], -1)\n",
    "            layer_outs2 += [activations]\n",
    "        result += [np.vstack(np.array(layer_outs2))]\n",
    "    return result"
   ]
  },
  {
   "cell_type": "code",
   "execution_count": 47,
   "metadata": {},
   "outputs": [],
   "source": [
    "layer_outs_train = extract_all_features(X_train, model, [5, 11], 10)"
   ]
  },
  {
   "cell_type": "code",
   "execution_count": 48,
   "metadata": {},
   "outputs": [],
   "source": [
    "layer_outs_test = extract_all_features(X_test, model, [5, 11], 1)"
   ]
  },
  {
   "cell_type": "code",
   "execution_count": 46,
   "metadata": {},
   "outputs": [
    {
     "ename": "NameError",
     "evalue": "name 'layer_outs_train' is not defined",
     "output_type": "error",
     "traceback": [
      "\u001b[1;31m---------------------------------------------------------------------------\u001b[0m",
      "\u001b[1;31mNameError\u001b[0m                                 Traceback (most recent call last)",
      "\u001b[1;32m<ipython-input-46-3402b6cd8e9c>\u001b[0m in \u001b[0;36m<module>\u001b[1;34m\u001b[0m\n\u001b[1;32m----> 1\u001b[1;33m \u001b[0mconv_3_train\u001b[0m\u001b[1;33m,\u001b[0m \u001b[0mconv_2_train\u001b[0m\u001b[1;33m,\u001b[0m \u001b[0mconv_1_train\u001b[0m \u001b[1;33m=\u001b[0m \u001b[0mlayer_outs_train\u001b[0m\u001b[1;33m\u001b[0m\u001b[0m\n\u001b[0m\u001b[0;32m      2\u001b[0m \u001b[0mconv_3_test\u001b[0m\u001b[1;33m,\u001b[0m \u001b[0mconv_2_test\u001b[0m\u001b[1;33m,\u001b[0m \u001b[0mconv_1_test\u001b[0m \u001b[1;33m=\u001b[0m \u001b[0mlayer_outs_test\u001b[0m\u001b[1;33m\u001b[0m\u001b[0m\n\u001b[0;32m      3\u001b[0m \u001b[0mnp\u001b[0m\u001b[1;33m.\u001b[0m\u001b[0msavetxt\u001b[0m\u001b[1;33m(\u001b[0m\u001b[1;34m'conv_3_train.txt'\u001b[0m\u001b[1;33m,\u001b[0m \u001b[0mconv_3_train\u001b[0m\u001b[1;33m)\u001b[0m\u001b[1;33m\u001b[0m\u001b[0m\n\u001b[0;32m      4\u001b[0m \u001b[0mnp\u001b[0m\u001b[1;33m.\u001b[0m\u001b[0msavetxt\u001b[0m\u001b[1;33m(\u001b[0m\u001b[1;34m'conv_2_train.txt'\u001b[0m\u001b[1;33m,\u001b[0m \u001b[0mconv_2_train\u001b[0m\u001b[1;33m)\u001b[0m\u001b[1;33m\u001b[0m\u001b[0m\n\u001b[0;32m      5\u001b[0m \u001b[0mnp\u001b[0m\u001b[1;33m.\u001b[0m\u001b[0msavetxt\u001b[0m\u001b[1;33m(\u001b[0m\u001b[1;34m'conv_1_train.txt'\u001b[0m\u001b[1;33m,\u001b[0m \u001b[0mconv_1_train\u001b[0m\u001b[1;33m)\u001b[0m\u001b[1;33m\u001b[0m\u001b[0m\n",
      "\u001b[1;31mNameError\u001b[0m: name 'layer_outs_train' is not defined"
     ]
    }
   ],
   "source": [
    "conv_3_train, conv_2_train, conv_1_train = layer_outs_train\n",
    "conv_3_test, conv_2_test, conv_1_test = layer_outs_test\n",
    "np.savetxt('conv_3_train.txt', conv_3_train)\n",
    "np.savetxt('conv_2_train.txt', conv_2_train)\n",
    "np.savetxt('conv_1_train.txt', conv_1_train)\n",
    "np.savetxt('conv_3_test.txt', conv_3_test)\n",
    "np.savetxt('conv_2_test.txt', conv_2_test)\n",
    "np.savetxt('conv_1_test.txt', conv_1_test)\n",
    "np.savetxt('Y_train.txt', Y_train)\n",
    "np.savetxt('Y_test.txt', Y_test)"
   ]
  },
  {
   "cell_type": "code",
   "execution_count": 49,
   "metadata": {},
   "outputs": [],
   "source": [
    "conv_2_train, conv_1_train = layer_outs_train\n",
    "conv_2_test, conv_1_test = layer_outs_test\n",
    "np.savetxt('conv_2_train.txt', conv_2_train)\n",
    "np.savetxt('conv_1_train.txt', conv_1_train)\n",
    "np.savetxt('conv_2_test.txt', conv_2_test)\n",
    "np.savetxt('conv_1_test.txt', conv_1_test)\n",
    "np.savetxt('Y_train.txt', Y_train)\n",
    "np.savetxt('Y_test.txt', Y_test)"
   ]
  },
  {
   "cell_type": "code",
   "execution_count": 50,
   "metadata": {},
   "outputs": [],
   "source": [
    "np.save('X_train.npy', X_train)\n",
    "np.save('X_test.npy', X_test)"
   ]
  },
  {
   "cell_type": "markdown",
   "metadata": {},
   "source": [
    "## PCA\n",
    "\n",
    "Here we will run PCA to visualize the 2 features we have extracted."
   ]
  },
  {
   "cell_type": "code",
   "execution_count": null,
   "metadata": {},
   "outputs": [],
   "source": []
  }
 ],
 "metadata": {
  "kernelspec": {
   "display_name": "Python 3",
   "language": "python",
   "name": "python3"
  },
  "language_info": {
   "codemirror_mode": {
    "name": "ipython",
    "version": 3
   },
   "file_extension": ".py",
   "mimetype": "text/x-python",
   "name": "python",
   "nbconvert_exporter": "python",
   "pygments_lexer": "ipython3",
   "version": "3.6.6"
  }
 },
 "nbformat": 4,
 "nbformat_minor": 2
}
