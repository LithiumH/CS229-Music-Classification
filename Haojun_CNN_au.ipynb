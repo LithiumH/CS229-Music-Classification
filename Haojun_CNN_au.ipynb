{
 "cells": [
  {
   "cell_type": "markdown",
   "metadata": {},
   "source": [
    "# Feature Extraction using CNN\n",
    "\n",
    "Here we are attempting to train a small Convolution Neural Network to see if the neural network can extract features that can help us improve our classical algorithms.\n",
    "\n",
    "One thing we are concerned about is the fact that classical algorithms cannot perform better tha CNNs. However, we aim to improve classical algorithms because they can run at a much faster speed. So if our CNN feature extractor paired with classical algorithms can perform just as well as original CNNs, it is promising that we can apply this to large datasets that CNN will take too long to run. One other thing is we can run classical algorithms in real time, meaning we can classify music much faster in real time than passing it through a CNN\n",
    "\n",
    "This file will contain all code to extract features."
   ]
  },
  {
   "cell_type": "code",
   "execution_count": 1,
   "metadata": {},
   "outputs": [
    {
     "name": "stderr",
     "output_type": "stream",
     "text": [
      "Using TensorFlow backend.\n"
     ]
    }
   ],
   "source": [
    "import os\n",
    "import keras\n",
    "import numpy as np\n",
    "import sklearn.model_selection as ms\n",
    "import matplotlib.pyplot as plt\n",
    "import librosa\n",
    "import librosa.display as display"
   ]
  },
  {
   "cell_type": "markdown",
   "metadata": {},
   "source": [
    "## Data loading\n",
    "\n",
    "First we will load out date into the notebook so we can process them easily"
   ]
  },
  {
   "cell_type": "code",
   "execution_count": 2,
   "metadata": {},
   "outputs": [],
   "source": [
    "X = np.load('data_mat/X.npy')\n",
    "Y = np.load('data_mat/Y.npy')"
   ]
  },
  {
   "cell_type": "code",
   "execution_count": 3,
   "metadata": {},
   "outputs": [
    {
     "name": "stdout",
     "output_type": "stream",
     "text": [
      "training X shape is (1000, 20, 1290)\n",
      "training Y shape is (1000, 10)\n"
     ]
    }
   ],
   "source": [
    "print \"training X shape is {0}\".format(X.shape)\n",
    "print \"training Y shape is {0}\".format(Y.shape)"
   ]
  },
  {
   "cell_type": "markdown",
   "metadata": {},
   "source": [
    "To apply the training set to the model easier, we will transform our data and split them so they can be fed into the models."
   ]
  },
  {
   "cell_type": "code",
   "execution_count": 4,
   "metadata": {},
   "outputs": [
    {
     "data": {
      "text/plain": [
       "<matplotlib.image.AxesImage at 0x12f961b90>"
      ]
     },
     "execution_count": 4,
     "metadata": {},
     "output_type": "execute_result"
    },
    {
     "data": {
      "image/png": "[encoded data removed]",
      "text/plain": [
       "<Figure size 432x288 with 1 Axes>"
      ]
     },
     "metadata": {
      "needs_background": "light"
     },
     "output_type": "display_data"
    }
   ],
   "source": [
    "plt.imshow(X[0][:, :100])"
   ]
  },
  {
   "cell_type": "code",
   "execution_count": 5,
   "metadata": {},
   "outputs": [
    {
     "name": "stdout",
     "output_type": "stream",
     "text": [
      "training X shape is (1000, 1290, 20)\n"
     ]
    },
    {
     "data": {
      "text/plain": [
       "<matplotlib.image.AxesImage at 0x1394eaed0>"
      ]
     },
     "execution_count": 5,
     "metadata": {},
     "output_type": "execute_result"
    },
    {
     "data": {
      "image/png": "[encoded data removed]",
      "text/plain": [
       "<Figure size 432x288 with 1 Axes>"
      ]
     },
     "metadata": {
      "needs_background": "light"
     },
     "output_type": "display_data"
    }
   ],
   "source": [
    "X2 = np.transpose(X, (0, 2, 1))\n",
    "print \"training X shape is {0}\".format(X2.shape)\n",
    "plt.imshow(X2[0][:100, :])"
   ]
  },
  {
   "cell_type": "code",
   "execution_count": 6,
   "metadata": {},
   "outputs": [
    {
     "name": "stdout",
     "output_type": "stream",
     "text": [
      "(700, 1290, 20) (300, 1290, 20) (700, 10) (300, 10)\n"
     ]
    }
   ],
   "source": [
    "inds = np.arange(X2.shape[0])\n",
    "np.random.shuffle(inds)\n",
    "X_train, X_test, Y_train, Y_test = ms.train_test_split(X2[inds], Y[inds], test_size=0.3, random_state=43)\n",
    "print X_train.shape, X_test.shape, Y_train.shape, Y_test.shape"
   ]
  },
  {
   "cell_type": "markdown",
   "metadata": {},
   "source": [
    "## CNN modeling\n",
    "\n",
    "Here we will use a 1D convolution layer, followed by standard pool, relu layers, followed by dense layers and then a softmax unit for output prediction."
   ]
  },
  {
   "cell_type": "code",
   "execution_count": 21,
   "metadata": {},
   "outputs": [],
   "source": [
    "def model(input_shape):\n",
    "    X_inputs = keras.layers.Input(input_shape)\n",
    "    X = X_inputs\n",
    "    print(X.shape)\n",
    "    X = keras.layers.Conv1D(filters=20, kernel_size=30, padding='same', data_format=\"channels_last\")(X)\n",
    "    print(X.shape)\n",
    "#     X = keras.layers.Dropout(0.3)(X)    \n",
    "#     X = keras.layers.MaxPooling1D(pool_size=4)(X)\n",
    "    X = keras.layers.BatchNormalization(axis = 2, name = 'bn0')(X)\n",
    "    X = keras.layers.Activation('relu')(X)\n",
    "    X = keras.layers.Conv1D(filters=50, kernel_size=5, padding='same', data_format=\"channels_last\")(X)\n",
    "    X = keras.layers.BatchNormalization(axis = 2, name = 'bn1')(X)\n",
    "    X = keras.layers.Activation('relu')(X)\n",
    "    print(X.shape)\n",
    "    \n",
    "    X = keras.layers.Flatten()(X)\n",
    "    X = keras.layers.Dense(50, activation='sigmoid')(X)\n",
    "    X = keras.layers.Dropout(0.5)(X)    \n",
    "#     X = keras.layers.Dense(35, activation='sigmoid')(X)\n",
    "    X = keras.layers.Dense(20, activation='sigmoid')(X)\n",
    "#     X = keras.layers.Dropout(0.5)(X)    \n",
    "    X = keras.layers.Dense(10, activation='sigmoid')(X)\n",
    "    X = keras.layers.Dense(10, activation='softmax')(X)\n",
    "    print(X.shape)\n",
    "    \n",
    "    model = keras.models.Model(inputs=X_inputs, outputs=X, name='cnn')\n",
    "    return model"
   ]
  },
  {
   "cell_type": "code",
   "execution_count": 22,
   "metadata": {},
   "outputs": [
    {
     "name": "stdout",
     "output_type": "stream",
     "text": [
      "(?, 1290, 20)\n",
      "(?, 1290, 20)\n",
      "(?, 1290, 50)\n",
      "(?, 10)\n"
     ]
    }
   ],
   "source": [
    "m = model(X2.shape[1:])\n",
    "m.compile(optimizer='adam', loss='categorical_crossentropy', metrics=['categorical_accuracy'])"
   ]
  },
  {
   "cell_type": "code",
   "execution_count": 23,
   "metadata": {
    "scrolled": true
   },
   "outputs": [
    {
     "name": "stdout",
     "output_type": "stream",
     "text": [
      "Epoch 1/200\n",
      "700/700 [==============================] - 5s 7ms/step - loss: 2.3528 - categorical_accuracy: 0.1043\n",
      "Epoch 2/200\n",
      "700/700 [==============================] - 4s 6ms/step - loss: 2.3000 - categorical_accuracy: 0.1029\n",
      "Epoch 3/200\n",
      "700/700 [==============================] - 4s 6ms/step - loss: 2.2707 - categorical_accuracy: 0.1043\n",
      "Epoch 4/200\n",
      "700/700 [==============================] - 4s 6ms/step - loss: 2.2536 - categorical_accuracy: 0.1100\n",
      "Epoch 5/200\n",
      "700/700 [==============================] - 4s 6ms/step - loss: 2.2294 - categorical_accuracy: 0.1314\n",
      "Epoch 6/200\n",
      "700/700 [==============================] - 4s 6ms/step - loss: 2.2151 - categorical_accuracy: 0.1514\n",
      "Epoch 7/200\n",
      "700/700 [==============================] - 4s 6ms/step - loss: 2.2069 - categorical_accuracy: 0.1543\n",
      "Epoch 8/200\n",
      "700/700 [==============================] - 5s 7ms/step - loss: 2.1918 - categorical_accuracy: 0.2014\n",
      "Epoch 9/200\n",
      "700/700 [==============================] - 4s 6ms/step - loss: 2.1715 - categorical_accuracy: 0.1843\n",
      "Epoch 10/200\n",
      "700/700 [==============================] - 5s 7ms/step - loss: 2.1569 - categorical_accuracy: 0.2043\n",
      "Epoch 11/200\n",
      "700/700 [==============================] - 5s 7ms/step - loss: 2.1462 - categorical_accuracy: 0.1957: 2s - loss: 2.1375 - categori\n",
      "Epoch 12/200\n",
      "700/700 [==============================] - 5s 7ms/step - loss: 2.1207 - categorical_accuracy: 0.1743\n",
      "Epoch 13/200\n",
      "700/700 [==============================] - 5s 7ms/step - loss: 2.1203 - categorical_accuracy: 0.1900\n",
      "Epoch 14/200\n",
      "700/700 [==============================] - 5s 7ms/step - loss: 2.1180 - categorical_accuracy: 0.1729\n",
      "Epoch 15/200\n",
      "700/700 [==============================] - 5s 7ms/step - loss: 2.1037 - categorical_accuracy: 0.2014\n",
      "Epoch 16/200\n",
      "700/700 [==============================] - 5s 7ms/step - loss: 2.0923 - categorical_accuracy: 0.1914\n",
      "Epoch 17/200\n",
      "700/700 [==============================] - 5s 7ms/step - loss: 2.0834 - categorical_accuracy: 0.1986\n",
      "Epoch 18/200\n",
      "700/700 [==============================] - 5s 7ms/step - loss: 2.0751 - categorical_accuracy: 0.1943\n",
      "Epoch 19/200\n",
      "700/700 [==============================] - 5s 7ms/step - loss: 2.0703 - categorical_accuracy: 0.2086\n",
      "Epoch 20/200\n",
      "700/700 [==============================] - 5s 7ms/step - loss: 2.0660 - categorical_accuracy: 0.2129\n",
      "Epoch 21/200\n",
      "700/700 [==============================] - 5s 7ms/step - loss: 2.0472 - categorical_accuracy: 0.2457\n",
      "Epoch 22/200\n",
      "700/700 [==============================] - 5s 7ms/step - loss: 2.0487 - categorical_accuracy: 0.2300\n",
      "Epoch 23/200\n",
      "700/700 [==============================] - 5s 7ms/step - loss: 2.0343 - categorical_accuracy: 0.2529\n",
      "Epoch 24/200\n",
      "700/700 [==============================] - 5s 7ms/step - loss: 2.0178 - categorical_accuracy: 0.2429\n",
      "Epoch 25/200\n",
      "700/700 [==============================] - 5s 7ms/step - loss: 2.0208 - categorical_accuracy: 0.2329\n",
      "Epoch 26/200\n",
      "700/700 [==============================] - 5s 7ms/step - loss: 2.0121 - categorical_accuracy: 0.2600\n",
      "Epoch 27/200\n",
      "700/700 [==============================] - 4s 6ms/step - loss: 2.0107 - categorical_accuracy: 0.2643\n",
      "Epoch 28/200\n",
      "700/700 [==============================] - 5s 8ms/step - loss: 2.0032 - categorical_accuracy: 0.2657\n",
      "Epoch 29/200\n",
      "700/700 [==============================] - 5s 7ms/step - loss: 2.0091 - categorical_accuracy: 0.2671\n",
      "Epoch 30/200\n",
      "700/700 [==============================] - 5s 7ms/step - loss: 1.9816 - categorical_accuracy: 0.2929\n",
      "Epoch 31/200\n",
      "700/700 [==============================] - 5s 7ms/step - loss: 1.9947 - categorical_accuracy: 0.2629\n",
      "Epoch 32/200\n",
      "700/700 [==============================] - 5s 7ms/step - loss: 1.9932 - categorical_accuracy: 0.2671: 1s - loss: 2.0004 - categorical_ac\n",
      "Epoch 33/200\n",
      "700/700 [==============================] - 5s 7ms/step - loss: 2.0297 - categorical_accuracy: 0.2614\n",
      "Epoch 34/200\n",
      "700/700 [==============================] - 5s 7ms/step - loss: 2.0254 - categorical_accuracy: 0.2471\n",
      "Epoch 35/200\n",
      "700/700 [==============================] - 5s 7ms/step - loss: 2.0037 - categorical_accuracy: 0.2800\n",
      "Epoch 36/200\n",
      "700/700 [==============================] - 4s 6ms/step - loss: 1.9886 - categorical_accuracy: 0.2743\n",
      "Epoch 37/200\n",
      "700/700 [==============================] - 5s 7ms/step - loss: 1.9856 - categorical_accuracy: 0.2800\n",
      "Epoch 38/200\n",
      "700/700 [==============================] - 4s 6ms/step - loss: 1.9741 - categorical_accuracy: 0.2529\n",
      "Epoch 39/200\n",
      "700/700 [==============================] - 4s 6ms/step - loss: 1.9735 - categorical_accuracy: 0.2814\n",
      "Epoch 40/200\n",
      "700/700 [==============================] - 4s 6ms/step - loss: 1.9810 - categorical_accuracy: 0.2614: 0s - loss: 1.9830 - categorical_accuracy: 0.26\n",
      "Epoch 41/200\n",
      "700/700 [==============================] - 4s 6ms/step - loss: 1.9763 - categorical_accuracy: 0.2843: 2s - loss: 2.0257 - \n",
      "Epoch 42/200\n",
      "700/700 [==============================] - 4s 6ms/step - loss: 1.9432 - categorical_accuracy: 0.2929\n",
      "Epoch 43/200\n",
      "700/700 [==============================] - 5s 7ms/step - loss: 1.9431 - categorical_accuracy: 0.3014\n",
      "Epoch 44/200\n",
      "700/700 [==============================] - 5s 7ms/step - loss: 1.9420 - categorical_accuracy: 0.3000\n",
      "Epoch 45/200\n",
      "700/700 [==============================] - 5s 7ms/step - loss: 1.9462 - categorical_accuracy: 0.3014\n",
      "Epoch 46/200\n",
      "700/700 [==============================] - 5s 7ms/step - loss: 1.9343 - categorical_accuracy: 0.3071\n",
      "Epoch 47/200\n",
      "700/700 [==============================] - 4s 6ms/step - loss: 1.9351 - categorical_accuracy: 0.2929\n",
      "Epoch 48/200\n",
      "700/700 [==============================] - 4s 6ms/step - loss: 1.9382 - categorical_accuracy: 0.2943\n",
      "Epoch 49/200\n",
      "700/700 [==============================] - 4s 6ms/step - loss: 1.9244 - categorical_accuracy: 0.3014\n",
      "Epoch 50/200\n",
      "700/700 [==============================] - 4s 6ms/step - loss: 1.9247 - categorical_accuracy: 0.2957\n",
      "Epoch 51/200\n",
      "700/700 [==============================] - 5s 6ms/step - loss: 1.9228 - categorical_accuracy: 0.3114\n",
      "Epoch 52/200\n",
      "700/700 [==============================] - 5s 6ms/step - loss: 1.9177 - categorical_accuracy: 0.3043\n",
      "Epoch 53/200\n",
      "700/700 [==============================] - 4s 6ms/step - loss: 1.8987 - categorical_accuracy: 0.3114\n",
      "Epoch 54/200\n",
      "700/700 [==============================] - 5s 6ms/step - loss: 1.8975 - categorical_accuracy: 0.3314\n",
      "Epoch 55/200\n",
      "700/700 [==============================] - 5s 7ms/step - loss: 1.9050 - categorical_accuracy: 0.3086\n",
      "Epoch 56/200\n",
      "700/700 [==============================] - 5s 7ms/step - loss: 1.8860 - categorical_accuracy: 0.3443\n",
      "Epoch 57/200\n",
      "700/700 [==============================] - 5s 7ms/step - loss: 1.8934 - categorical_accuracy: 0.3157\n",
      "Epoch 58/200\n",
      "700/700 [==============================] - 5s 7ms/step - loss: 1.8911 - categorical_accuracy: 0.3229\n",
      "Epoch 59/200\n",
      "700/700 [==============================] - 5s 6ms/step - loss: 1.8796 - categorical_accuracy: 0.3214\n",
      "Epoch 60/200\n",
      "700/700 [==============================] - 5s 7ms/step - loss: 1.8890 - categorical_accuracy: 0.3329\n",
      "Epoch 61/200\n",
      "700/700 [==============================] - 5s 7ms/step - loss: 1.8694 - categorical_accuracy: 0.3300\n",
      "Epoch 62/200\n",
      "700/700 [==============================] - 5s 7ms/step - loss: 1.8603 - categorical_accuracy: 0.3414\n",
      "Epoch 63/200\n",
      "700/700 [==============================] - 5s 7ms/step - loss: 1.8653 - categorical_accuracy: 0.3371: 0s - loss: 1.8691 - categorical_accuracy\n",
      "Epoch 64/200\n",
      "700/700 [==============================] - 5s 7ms/step - loss: 1.8766 - categorical_accuracy: 0.3286\n",
      "Epoch 65/200\n",
      "700/700 [==============================] - 5s 7ms/step - loss: 1.8431 - categorical_accuracy: 0.3257\n",
      "Epoch 66/200\n",
      "700/700 [==============================] - 4s 6ms/step - loss: 1.8153 - categorical_accuracy: 0.3471\n",
      "Epoch 67/200\n",
      "700/700 [==============================] - 5s 7ms/step - loss: 1.8272 - categorical_accuracy: 0.3357\n",
      "Epoch 68/200\n",
      "700/700 [==============================] - 5s 7ms/step - loss: 1.8446 - categorical_accuracy: 0.3129\n",
      "Epoch 69/200\n",
      "700/700 [==============================] - 5s 7ms/step - loss: 1.8327 - categorical_accuracy: 0.3314\n",
      "Epoch 70/200\n",
      "700/700 [==============================] - 5s 7ms/step - loss: 1.8246 - categorical_accuracy: 0.3043\n",
      "Epoch 71/200\n"
     ]
    },
    {
     "name": "stdout",
     "output_type": "stream",
     "text": [
      "700/700 [==============================] - 5s 7ms/step - loss: 1.8169 - categorical_accuracy: 0.3314\n",
      "Epoch 72/200\n",
      "700/700 [==============================] - 5s 7ms/step - loss: 1.7917 - categorical_accuracy: 0.3329\n",
      "Epoch 73/200\n",
      "700/700 [==============================] - 5s 7ms/step - loss: 1.8053 - categorical_accuracy: 0.3257\n",
      "Epoch 74/200\n",
      "700/700 [==============================] - 5s 7ms/step - loss: 1.7984 - categorical_accuracy: 0.3400\n",
      "Epoch 75/200\n",
      "700/700 [==============================] - 5s 7ms/step - loss: 1.7961 - categorical_accuracy: 0.3286\n",
      "Epoch 76/200\n",
      "700/700 [==============================] - 5s 7ms/step - loss: 1.8110 - categorical_accuracy: 0.3257\n",
      "Epoch 77/200\n",
      "700/700 [==============================] - 5s 7ms/step - loss: 1.7832 - categorical_accuracy: 0.3329\n",
      "Epoch 78/200\n",
      "700/700 [==============================] - 5s 7ms/step - loss: 1.8136 - categorical_accuracy: 0.3286\n",
      "Epoch 79/200\n",
      "700/700 [==============================] - 5s 6ms/step - loss: 1.7960 - categorical_accuracy: 0.3471\n",
      "Epoch 80/200\n",
      "700/700 [==============================] - 5s 7ms/step - loss: 1.7699 - categorical_accuracy: 0.3500\n",
      "Epoch 81/200\n",
      "700/700 [==============================] - 5s 7ms/step - loss: 1.8177 - categorical_accuracy: 0.3243\n",
      "Epoch 82/200\n",
      "700/700 [==============================] - 5s 7ms/step - loss: 1.7932 - categorical_accuracy: 0.3386\n",
      "Epoch 83/200\n",
      "700/700 [==============================] - 5s 7ms/step - loss: 1.7800 - categorical_accuracy: 0.3486\n",
      "Epoch 84/200\n",
      "700/700 [==============================] - 5s 7ms/step - loss: 1.7419 - categorical_accuracy: 0.3514\n",
      "Epoch 85/200\n",
      "700/700 [==============================] - 5s 7ms/step - loss: 1.7698 - categorical_accuracy: 0.3457\n",
      "Epoch 86/200\n",
      "700/700 [==============================] - 5s 6ms/step - loss: 1.7479 - categorical_accuracy: 0.3314\n",
      "Epoch 87/200\n",
      "700/700 [==============================] - 5s 7ms/step - loss: 1.7778 - categorical_accuracy: 0.3414\n",
      "Epoch 88/200\n",
      "700/700 [==============================] - 5s 7ms/step - loss: 1.7419 - categorical_accuracy: 0.3586\n",
      "Epoch 89/200\n",
      "700/700 [==============================] - 5s 7ms/step - loss: 1.8215 - categorical_accuracy: 0.3043\n",
      "Epoch 90/200\n",
      "700/700 [==============================] - 5s 7ms/step - loss: 1.8130 - categorical_accuracy: 0.3343\n",
      "Epoch 91/200\n",
      "700/700 [==============================] - 5s 7ms/step - loss: 1.7697 - categorical_accuracy: 0.3486\n",
      "Epoch 92/200\n",
      "700/700 [==============================] - 5s 7ms/step - loss: 1.7788 - categorical_accuracy: 0.3400\n",
      "Epoch 93/200\n",
      "700/700 [==============================] - 5s 7ms/step - loss: 1.7512 - categorical_accuracy: 0.3400\n",
      "Epoch 94/200\n",
      "700/700 [==============================] - 4s 6ms/step - loss: 1.7483 - categorical_accuracy: 0.3386\n",
      "Epoch 95/200\n",
      "700/700 [==============================] - 4s 6ms/step - loss: 1.7304 - categorical_accuracy: 0.3414\n",
      "Epoch 96/200\n",
      "700/700 [==============================] - 5s 7ms/step - loss: 1.7204 - categorical_accuracy: 0.3457\n",
      "Epoch 97/200\n",
      "700/700 [==============================] - 5s 7ms/step - loss: 1.7236 - categorical_accuracy: 0.3514\n",
      "Epoch 98/200\n",
      "700/700 [==============================] - 4s 6ms/step - loss: 1.7313 - categorical_accuracy: 0.3614\n",
      "Epoch 99/200\n",
      "700/700 [==============================] - 5s 7ms/step - loss: 1.7433 - categorical_accuracy: 0.3214\n",
      "Epoch 100/200\n",
      "700/700 [==============================] - 5s 7ms/step - loss: 1.7435 - categorical_accuracy: 0.3529\n",
      "Epoch 101/200\n",
      "700/700 [==============================] - 5s 7ms/step - loss: 1.7484 - categorical_accuracy: 0.3371\n",
      "Epoch 102/200\n",
      "700/700 [==============================] - 4s 6ms/step - loss: 1.7372 - categorical_accuracy: 0.3243\n",
      "Epoch 103/200\n",
      "700/700 [==============================] - 4s 6ms/step - loss: 1.7388 - categorical_accuracy: 0.3457: 1s - loss: 1.7392 - categorica\n",
      "Epoch 104/200\n",
      "700/700 [==============================] - 5s 6ms/step - loss: 1.7216 - categorical_accuracy: 0.3757\n",
      "Epoch 105/200\n",
      "700/700 [==============================] - 5s 7ms/step - loss: 1.7237 - categorical_accuracy: 0.3529\n",
      "Epoch 106/200\n",
      "700/700 [==============================] - 5s 6ms/step - loss: 1.7279 - categorical_accuracy: 0.3357\n",
      "Epoch 107/200\n",
      "700/700 [==============================] - 5s 7ms/step - loss: 1.7252 - categorical_accuracy: 0.3386\n",
      "Epoch 108/200\n",
      "700/700 [==============================] - 5s 7ms/step - loss: 1.7193 - categorical_accuracy: 0.3429\n",
      "Epoch 109/200\n",
      "700/700 [==============================] - 5s 7ms/step - loss: 1.6798 - categorical_accuracy: 0.3443\n",
      "Epoch 110/200\n",
      "700/700 [==============================] - 4s 6ms/step - loss: 1.6748 - categorical_accuracy: 0.3557\n",
      "Epoch 111/200\n",
      "700/700 [==============================] - 4s 6ms/step - loss: 1.6635 - categorical_accuracy: 0.3729\n",
      "Epoch 112/200\n",
      "700/700 [==============================] - 5s 7ms/step - loss: 1.6915 - categorical_accuracy: 0.3500\n",
      "Epoch 113/200\n",
      "700/700 [==============================] - 5s 7ms/step - loss: 1.6626 - categorical_accuracy: 0.3786\n",
      "Epoch 114/200\n",
      "700/700 [==============================] - 4s 6ms/step - loss: 1.6715 - categorical_accuracy: 0.3757\n",
      "Epoch 115/200\n",
      "700/700 [==============================] - 4s 6ms/step - loss: 1.7076 - categorical_accuracy: 0.3586\n",
      "Epoch 116/200\n",
      "700/700 [==============================] - 5s 7ms/step - loss: 1.6546 - categorical_accuracy: 0.3729\n",
      "Epoch 117/200\n",
      "700/700 [==============================] - 4s 6ms/step - loss: 1.6374 - categorical_accuracy: 0.3843\n",
      "Epoch 118/200\n",
      "700/700 [==============================] - 5s 7ms/step - loss: 1.6630 - categorical_accuracy: 0.3529\n",
      "Epoch 119/200\n",
      "700/700 [==============================] - 5s 6ms/step - loss: 1.6486 - categorical_accuracy: 0.3614\n",
      "Epoch 120/200\n",
      "700/700 [==============================] - 5s 7ms/step - loss: 1.6616 - categorical_accuracy: 0.3529\n",
      "Epoch 121/200\n",
      "700/700 [==============================] - 5s 7ms/step - loss: 1.6544 - categorical_accuracy: 0.3771\n",
      "Epoch 122/200\n",
      "700/700 [==============================] - 5s 7ms/step - loss: 1.6742 - categorical_accuracy: 0.3600\n",
      "Epoch 123/200\n",
      "700/700 [==============================] - 5s 6ms/step - loss: 1.6613 - categorical_accuracy: 0.3657\n",
      "Epoch 124/200\n",
      "700/700 [==============================] - 4s 6ms/step - loss: 1.6485 - categorical_accuracy: 0.3771\n",
      "Epoch 125/200\n",
      "700/700 [==============================] - 5s 7ms/step - loss: 1.6941 - categorical_accuracy: 0.3743\n",
      "Epoch 126/200\n",
      "700/700 [==============================] - 5s 7ms/step - loss: 1.7334 - categorical_accuracy: 0.3300\n",
      "Epoch 127/200\n",
      "700/700 [==============================] - 4s 6ms/step - loss: 1.7426 - categorical_accuracy: 0.3671\n",
      "Epoch 128/200\n",
      "700/700 [==============================] - 4s 6ms/step - loss: 1.7207 - categorical_accuracy: 0.3571\n",
      "Epoch 129/200\n",
      "700/700 [==============================] - 4s 6ms/step - loss: 1.6476 - categorical_accuracy: 0.3700: 3s - loss: 1\n",
      "Epoch 130/200\n",
      "700/700 [==============================] - 4s 6ms/step - loss: 1.6607 - categorical_accuracy: 0.3743\n",
      "Epoch 131/200\n",
      "700/700 [==============================] - 4s 6ms/step - loss: 1.6992 - categorical_accuracy: 0.3586\n",
      "Epoch 132/200\n",
      "700/700 [==============================] - 4s 6ms/step - loss: 1.6945 - categorical_accuracy: 0.3757\n",
      "Epoch 133/200\n",
      "700/700 [==============================] - 5s 7ms/step - loss: 1.6880 - categorical_accuracy: 0.3457\n",
      "Epoch 134/200\n",
      "700/700 [==============================] - 5s 7ms/step - loss: 1.6640 - categorical_accuracy: 0.3671\n",
      "Epoch 135/200\n",
      "700/700 [==============================] - 5s 7ms/step - loss: 1.6767 - categorical_accuracy: 0.3786\n",
      "Epoch 136/200\n",
      "700/700 [==============================] - 5s 6ms/step - loss: 1.6901 - categorical_accuracy: 0.3543\n",
      "Epoch 137/200\n",
      "700/700 [==============================] - 4s 6ms/step - loss: 1.6536 - categorical_accuracy: 0.3771\n",
      "Epoch 138/200\n",
      "700/700 [==============================] - 4s 6ms/step - loss: 1.6544 - categorical_accuracy: 0.3729\n",
      "Epoch 139/200\n",
      "700/700 [==============================] - 5s 7ms/step - loss: 1.6310 - categorical_accuracy: 0.3700\n",
      "Epoch 140/200\n",
      "700/700 [==============================] - 5s 7ms/step - loss: 1.5846 - categorical_accuracy: 0.4071\n",
      "Epoch 141/200\n",
      "700/700 [==============================] - 6s 8ms/step - loss: 1.6080 - categorical_accuracy: 0.3986\n",
      "Epoch 142/200\n"
     ]
    },
    {
     "name": "stdout",
     "output_type": "stream",
     "text": [
      "700/700 [==============================] - 5s 7ms/step - loss: 1.6137 - categorical_accuracy: 0.3957\n",
      "Epoch 143/200\n",
      "700/700 [==============================] - 5s 7ms/step - loss: 1.6179 - categorical_accuracy: 0.3857\n",
      "Epoch 144/200\n",
      "700/700 [==============================] - 5s 7ms/step - loss: 1.6096 - categorical_accuracy: 0.4029\n",
      "Epoch 145/200\n",
      "700/700 [==============================] - 5s 7ms/step - loss: 1.6223 - categorical_accuracy: 0.3829\n",
      "Epoch 146/200\n",
      "700/700 [==============================] - 5s 7ms/step - loss: 1.6054 - categorical_accuracy: 0.4086\n",
      "Epoch 147/200\n",
      "700/700 [==============================] - 5s 6ms/step - loss: 1.5854 - categorical_accuracy: 0.3886\n",
      "Epoch 148/200\n",
      "700/700 [==============================] - 5s 6ms/step - loss: 1.6088 - categorical_accuracy: 0.3929: 0s - loss: 1.6089 - categorical_accuracy: \n",
      "Epoch 149/200\n",
      "700/700 [==============================] - 5s 7ms/step - loss: 1.6076 - categorical_accuracy: 0.4057\n",
      "Epoch 150/200\n",
      "700/700 [==============================] - 5s 6ms/step - loss: 1.5901 - categorical_accuracy: 0.3929\n",
      "Epoch 151/200\n",
      "700/700 [==============================] - 5s 7ms/step - loss: 1.5979 - categorical_accuracy: 0.3871\n",
      "Epoch 152/200\n",
      "700/700 [==============================] - 5s 7ms/step - loss: 1.6002 - categorical_accuracy: 0.3900\n",
      "Epoch 153/200\n",
      "700/700 [==============================] - 5s 7ms/step - loss: 1.5953 - categorical_accuracy: 0.3943\n",
      "Epoch 154/200\n",
      "700/700 [==============================] - 5s 7ms/step - loss: 1.6233 - categorical_accuracy: 0.3814\n",
      "Epoch 155/200\n",
      "700/700 [==============================] - 5s 7ms/step - loss: 1.6514 - categorical_accuracy: 0.3743\n",
      "Epoch 156/200\n",
      "700/700 [==============================] - 5s 7ms/step - loss: 1.6051 - categorical_accuracy: 0.3857\n",
      "Epoch 157/200\n",
      "700/700 [==============================] - 5s 7ms/step - loss: 1.5863 - categorical_accuracy: 0.3871\n",
      "Epoch 158/200\n",
      "700/700 [==============================] - 5s 7ms/step - loss: 1.5849 - categorical_accuracy: 0.3829\n",
      "Epoch 159/200\n",
      "700/700 [==============================] - 5s 7ms/step - loss: 1.6271 - categorical_accuracy: 0.3814\n",
      "Epoch 160/200\n",
      "700/700 [==============================] - 5s 6ms/step - loss: 1.5865 - categorical_accuracy: 0.3857\n",
      "Epoch 161/200\n",
      "700/700 [==============================] - 5s 7ms/step - loss: 1.5649 - categorical_accuracy: 0.4057: 0s - loss: 1.5566 - categorical_accuracy\n",
      "Epoch 162/200\n",
      "700/700 [==============================] - 5s 7ms/step - loss: 1.5355 - categorical_accuracy: 0.3943\n",
      "Epoch 163/200\n",
      "700/700 [==============================] - 5s 7ms/step - loss: 1.5587 - categorical_accuracy: 0.4029\n",
      "Epoch 164/200\n",
      "700/700 [==============================] - 5s 7ms/step - loss: 1.6361 - categorical_accuracy: 0.3814\n",
      "Epoch 165/200\n",
      "700/700 [==============================] - 5s 6ms/step - loss: 1.6302 - categorical_accuracy: 0.3714\n",
      "Epoch 166/200\n",
      "700/700 [==============================] - 4s 6ms/step - loss: 1.6399 - categorical_accuracy: 0.3786\n",
      "Epoch 167/200\n",
      "700/700 [==============================] - 5s 6ms/step - loss: 1.6081 - categorical_accuracy: 0.3643\n",
      "Epoch 168/200\n",
      "700/700 [==============================] - 5s 7ms/step - loss: 1.5928 - categorical_accuracy: 0.3857\n",
      "Epoch 169/200\n",
      "700/700 [==============================] - 5s 7ms/step - loss: 1.6133 - categorical_accuracy: 0.3929\n",
      "Epoch 170/200\n",
      "700/700 [==============================] - 5s 7ms/step - loss: 1.5750 - categorical_accuracy: 0.4157\n",
      "Epoch 171/200\n",
      "700/700 [==============================] - 9s 13ms/step - loss: 1.5836 - categorical_accuracy: 0.3671\n",
      "Epoch 172/200\n",
      "700/700 [==============================] - 6s 8ms/step - loss: 1.5839 - categorical_accuracy: 0.3914\n",
      "Epoch 173/200\n",
      "700/700 [==============================] - 6s 8ms/step - loss: 1.5602 - categorical_accuracy: 0.4000\n",
      "Epoch 174/200\n",
      "700/700 [==============================] - 5s 8ms/step - loss: 1.5356 - categorical_accuracy: 0.4143\n",
      "Epoch 175/200\n",
      "700/700 [==============================] - 6s 8ms/step - loss: 1.5356 - categorical_accuracy: 0.4071\n",
      "Epoch 176/200\n",
      "700/700 [==============================] - 5s 7ms/step - loss: 1.5438 - categorical_accuracy: 0.3843\n",
      "Epoch 177/200\n",
      "700/700 [==============================] - 5s 7ms/step - loss: 1.5510 - categorical_accuracy: 0.4129\n",
      "Epoch 178/200\n",
      "700/700 [==============================] - 5s 7ms/step - loss: 1.5159 - categorical_accuracy: 0.4029\n",
      "Epoch 179/200\n",
      "700/700 [==============================] - 4s 6ms/step - loss: 1.5363 - categorical_accuracy: 0.4043\n",
      "Epoch 180/200\n",
      "700/700 [==============================] - 5s 7ms/step - loss: 1.5405 - categorical_accuracy: 0.4229\n",
      "Epoch 181/200\n",
      "700/700 [==============================] - 5s 7ms/step - loss: 1.5222 - categorical_accuracy: 0.4329\n",
      "Epoch 182/200\n",
      "700/700 [==============================] - 5s 8ms/step - loss: 1.5496 - categorical_accuracy: 0.4043\n",
      "Epoch 183/200\n",
      "700/700 [==============================] - 5s 7ms/step - loss: 1.5417 - categorical_accuracy: 0.4100\n",
      "Epoch 184/200\n",
      "700/700 [==============================] - 5s 7ms/step - loss: 1.5715 - categorical_accuracy: 0.3957\n",
      "Epoch 185/200\n",
      "700/700 [==============================] - 5s 7ms/step - loss: 1.5335 - categorical_accuracy: 0.4071\n",
      "Epoch 186/200\n",
      "700/700 [==============================] - 5s 7ms/step - loss: 1.6079 - categorical_accuracy: 0.3814\n",
      "Epoch 187/200\n",
      "700/700 [==============================] - 5s 7ms/step - loss: 1.5656 - categorical_accuracy: 0.4071\n",
      "Epoch 188/200\n",
      "700/700 [==============================] - 5s 7ms/step - loss: 1.5873 - categorical_accuracy: 0.4071\n",
      "Epoch 189/200\n",
      "700/700 [==============================] - 5s 7ms/step - loss: 1.5456 - categorical_accuracy: 0.4243\n",
      "Epoch 190/200\n",
      "700/700 [==============================] - 5s 7ms/step - loss: 1.5501 - categorical_accuracy: 0.4157\n",
      "Epoch 191/200\n",
      "700/700 [==============================] - 5s 7ms/step - loss: 1.6544 - categorical_accuracy: 0.3786\n",
      "Epoch 192/200\n",
      "700/700 [==============================] - 5s 7ms/step - loss: 1.7331 - categorical_accuracy: 0.3529\n",
      "Epoch 193/200\n",
      "700/700 [==============================] - 5s 7ms/step - loss: 1.7505 - categorical_accuracy: 0.3286\n",
      "Epoch 194/200\n",
      "700/700 [==============================] - 5s 7ms/step - loss: 1.6843 - categorical_accuracy: 0.3514\n",
      "Epoch 195/200\n",
      "700/700 [==============================] - 5s 7ms/step - loss: 1.6493 - categorical_accuracy: 0.3629\n",
      "Epoch 196/200\n",
      "700/700 [==============================] - 5s 7ms/step - loss: 1.6211 - categorical_accuracy: 0.3629\n",
      "Epoch 197/200\n",
      "700/700 [==============================] - 5s 8ms/step - loss: 1.6141 - categorical_accuracy: 0.3843\n",
      "Epoch 198/200\n",
      "700/700 [==============================] - 5s 8ms/step - loss: 1.6021 - categorical_accuracy: 0.3900\n",
      "Epoch 199/200\n",
      "700/700 [==============================] - 5s 7ms/step - loss: 1.5759 - categorical_accuracy: 0.3800\n",
      "Epoch 200/200\n",
      "700/700 [==============================] - 5s 7ms/step - loss: 1.5896 - categorical_accuracy: 0.3771\n"
     ]
    },
    {
     "data": {
      "text/plain": [
       "<keras.callbacks.History at 0x1402218d0>"
      ]
     },
     "execution_count": 23,
     "metadata": {},
     "output_type": "execute_result"
    }
   ],
   "source": [
    "m.fit(X_train, Y_train, epochs=200)"
   ]
  },
  {
   "cell_type": "code",
   "execution_count": 24,
   "metadata": {},
   "outputs": [
    {
     "name": "stdout",
     "output_type": "stream",
     "text": [
      "300/300 [==============================] - 6s 21ms/step\n",
      "Loss = 1.7240654373168944\n",
      "Test Accuracy = 0.3466666666666667\n"
     ]
    }
   ],
   "source": [
    "preds = m.evaluate(X_test, Y_test)\n",
    "print (\"Loss = \" + str(preds[0]))\n",
    "print (\"Test Accuracy = \" + str(preds[1]))"
   ]
  },
  {
   "cell_type": "code",
   "execution_count": null,
   "metadata": {},
   "outputs": [],
   "source": []
  },
  {
   "cell_type": "code",
   "execution_count": null,
   "metadata": {},
   "outputs": [],
   "source": []
  }
 ],
 "metadata": {
  "kernelspec": {
   "display_name": "Python 2",
   "language": "python",
   "name": "python2"
  },
  "language_info": {
   "codemirror_mode": {
    "name": "ipython",
    "version": 2
   },
   "file_extension": ".py",
   "mimetype": "text/x-python",
   "name": "python",
   "nbconvert_exporter": "python",
   "pygments_lexer": "ipython2",
   "version": "2.7.15"
  }
 },
 "nbformat": 4,
 "nbformat_minor": 2
}
