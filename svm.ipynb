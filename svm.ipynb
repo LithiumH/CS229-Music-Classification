{
 "cells": [
  {
   "cell_type": "code",
   "execution_count": 49,
   "metadata": {},
   "outputs": [],
   "source": [
    "import os\n",
    "import numpy as np\n",
    "from sklearn import svm\n",
    "import sklearn.model_selection as ms\n",
    "import sklearn.metrics as skmetrics"
   ]
  },
  {
   "cell_type": "code",
   "execution_count": 47,
   "metadata": {},
   "outputs": [
    {
     "name": "stdout",
     "output_type": "stream",
     "text": [
      "(531,)\n"
     ]
    }
   ],
   "source": [
    "# dense50 = np.loadtxt('cnn-mat/dense50.txt')\n",
    "label = np.loadtxt('cnn-mat/label.txt')\n",
    "print label.shape"
   ]
  },
  {
   "cell_type": "code",
   "execution_count": 71,
   "metadata": {},
   "outputs": [
    {
     "name": "stdout",
     "output_type": "stream",
     "text": [
      "Training SVM for dense100.txt ...\n",
      "\t- # of Misclassification: 1.0\n",
      "Training SVM for dense50.txt ...\n",
      "\t- # of Misclassification: 3.0\n",
      "Training SVM for dense500.txt ...\n",
      "\t- # of Misclassification: 5.0\n",
      "Training SVM for dense200.txt ...\n",
      "\t- # of Misclassification: 4.0\n"
     ]
    }
   ],
   "source": [
    "mat_path = 'cnn-mat'\n",
    "N = 100\n",
    "for i , filename in enumerate(os.listdir(mat_path)):\n",
    "    if filename.startswith('label'): \n",
    "#         Y = np.loadtxt(os.path.join(mat_path, filename))\n",
    "#         print label.shape\n",
    "        continue\n",
    "    else: \n",
    "        # load data and split\n",
    "        X = np.loadtxt(os.path.join(mat_path, filename))\n",
    "        X_train, X_test, Y_train, Y_test = ms.train_test_split(X, label, test_size=0.15)\n",
    "        m_train, _ = X_train.shape\n",
    "        m_test, _ = X_test.shape\n",
    "        \n",
    "        # SVM \n",
    "        print 'Training SVM for %s ...' % filename\n",
    "        sum_error = 0.\n",
    "        for _ in range(N):\n",
    "            clf = svm.SVC(gamma='scale')\n",
    "            clf.fit(X_train, Y_train)\n",
    "            Y_pred = clf.predict(X_test)\n",
    "            sum_error += sum([1 for i in range(m_te) if Y_test[i] != Y_pred[i]])\n",
    "        \n",
    "        print '\\t- # of Misclassification: %s' % str(sum_error/N)\n",
    "#         print '\\t- mean absolute error: %s' % "
   ]
  },
  {
   "cell_type": "code",
   "execution_count": 59,
   "metadata": {},
   "outputs": [],
   "source": [
    "X_train, X_test, Y_train, Y_test = ms.train_test_split(dense50, label, test_size=0.1)\n",
    "m_tr, _ = X_train.shape\n",
    "m_te, _ = X_test.shape"
   ]
  },
  {
   "cell_type": "code",
   "execution_count": 30,
   "metadata": {},
   "outputs": [],
   "source": []
  },
  {
   "cell_type": "code",
   "execution_count": 60,
   "metadata": {},
   "outputs": [
    {
     "data": {
      "text/plain": [
       "SVC(C=1.0, cache_size=200, class_weight=None, coef0=0.0,\n",
       "  decision_function_shape='ovr', degree=3, gamma='scale', kernel='rbf',\n",
       "  max_iter=-1, probability=False, random_state=None, shrinking=True,\n",
       "  tol=0.001, verbose=False)"
      ]
     },
     "execution_count": 60,
     "metadata": {},
     "output_type": "execute_result"
    }
   ],
   "source": [
    "clf = svm.SVC(gamma='scale')\n",
    "clf.fit(X_train, Y_train)  "
   ]
  },
  {
   "cell_type": "code",
   "execution_count": 61,
   "metadata": {},
   "outputs": [],
   "source": [
    "Y_test_pred = clf.predict(X_test)"
   ]
  },
  {
   "cell_type": "code",
   "execution_count": 62,
   "metadata": {},
   "outputs": [
    {
     "name": "stdout",
     "output_type": "stream",
     "text": [
      "# of Misclassification: 1\n"
     ]
    },
    {
     "data": {
      "text/plain": [
       "0.018518518518518517"
      ]
     },
     "execution_count": 62,
     "metadata": {},
     "output_type": "execute_result"
    }
   ],
   "source": [
    "print '# of Misclassification: %s' % sum([1 for i in range(m_te) if Y_test[i] != Y_test_pred[i]])\n",
    "skmetrics.mean_absolute_error(Y_test, Y_test_pred)"
   ]
  },
  {
   "cell_type": "code",
   "execution_count": 16,
   "metadata": {},
   "outputs": [
    {
     "data": {
      "text/plain": [
       "array([1., 0., 0., 1., 0., 1., 1., 0., 0., 1., 1., 0., 1., 1., 1., 1., 1.,\n",
       "       1., 1., 1., 0., 0., 1., 1., 1., 1., 1., 1., 0., 1., 1., 1., 1., 1.,\n",
       "       1., 1., 0., 1., 1., 1., 1., 1., 0., 1., 1., 0., 1., 1., 0., 0., 0.,\n",
       "       0., 1., 1.])"
      ]
     },
     "execution_count": 16,
     "metadata": {},
     "output_type": "execute_result"
    }
   ],
   "source": [
    "Y_test"
   ]
  },
  {
   "cell_type": "code",
   "execution_count": null,
   "metadata": {},
   "outputs": [],
   "source": []
  }
 ],
 "metadata": {
  "kernelspec": {
   "display_name": "Python 2",
   "language": "python",
   "name": "python2"
  },
  "language_info": {
   "codemirror_mode": {
    "name": "ipython",
    "version": 2
   },
   "file_extension": ".py",
   "mimetype": "text/x-python",
   "name": "python",
   "nbconvert_exporter": "python",
   "pygments_lexer": "ipython2",
   "version": "2.7.15"
  }
 },
 "nbformat": 4,
 "nbformat_minor": 2
}
