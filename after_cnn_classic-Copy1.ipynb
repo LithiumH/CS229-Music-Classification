{
 "cells": [
  {
   "cell_type": "code",
   "execution_count": 8,
   "metadata": {},
   "outputs": [],
   "source": [
    "import os\n",
    "import numpy as np\n",
    "\n",
    "import sklearn.model_selection as ms\n",
    "import sklearn.metrics as skmetrics\n",
    "\n",
    "from sklearn.multiclass import OneVsRestClassifier\n",
    "from sklearn.naive_bayes import MultinomialNB\n",
    "from sklearn import svm\n",
    "from sklearn.cluster import KMeans\n",
    "from sklearn.mixture import GaussianMixture\n",
    "from sklearn.linear_model import LogisticRegression\n",
    "from sklearn.neural_network import MLPClassifier\n",
    "from sklearn.decomposition import PCA\n",
    "\n",
    "from mpl_toolkits.mplot3d import Axes3D\n",
    "import matplotlib.pyplot as plt\n",
    "import numpy as np"
   ]
  },
  {
   "cell_type": "code",
   "execution_count": 9,
   "metadata": {},
   "outputs": [
    {
     "ename": "IOError",
     "evalue": "train_test/label_train.txt not found.",
     "output_type": "error",
     "traceback": [
      "\u001b[0;31m---------------------------------------------------------------------------\u001b[0m",
      "\u001b[0;31mIOError\u001b[0m                                   Traceback (most recent call last)",
      "\u001b[0;32m<ipython-input-9-d42f979cbf47>\u001b[0m in \u001b[0;36m<module>\u001b[0;34m()\u001b[0m\n\u001b[0;32m----> 1\u001b[0;31m \u001b[0mY_train_1hot\u001b[0m \u001b[0;34m=\u001b[0m \u001b[0mnp\u001b[0m\u001b[0;34m.\u001b[0m\u001b[0mloadtxt\u001b[0m\u001b[0;34m(\u001b[0m\u001b[0;34m'train_test/label_train.txt'\u001b[0m\u001b[0;34m)\u001b[0m\u001b[0;34m\u001b[0m\u001b[0m\n\u001b[0m\u001b[1;32m      2\u001b[0m \u001b[0mY_test_1hot\u001b[0m \u001b[0;34m=\u001b[0m \u001b[0mnp\u001b[0m\u001b[0;34m.\u001b[0m\u001b[0mloadtxt\u001b[0m\u001b[0;34m(\u001b[0m\u001b[0;34m'train_test/label_test.txt'\u001b[0m\u001b[0;34m)\u001b[0m\u001b[0;34m\u001b[0m\u001b[0m\n\u001b[1;32m      3\u001b[0m \u001b[0;32mprint\u001b[0m \u001b[0mY_train_1hot\u001b[0m\u001b[0;34m.\u001b[0m\u001b[0mshape\u001b[0m\u001b[0;34m,\u001b[0m \u001b[0mY_test_1hot\u001b[0m\u001b[0;34m.\u001b[0m\u001b[0mshape\u001b[0m\u001b[0;34m\u001b[0m\u001b[0m\n",
      "\u001b[0;32m/Users/gavin/miniconda3/envs/cs229_project/lib/python2.7/site-packages/numpy/lib/npyio.pyc\u001b[0m in \u001b[0;36mloadtxt\u001b[0;34m(fname, dtype, comments, delimiter, converters, skiprows, usecols, unpack, ndmin, encoding)\u001b[0m\n\u001b[1;32m    924\u001b[0m             \u001b[0mfname\u001b[0m \u001b[0;34m=\u001b[0m \u001b[0mstr\u001b[0m\u001b[0;34m(\u001b[0m\u001b[0mfname\u001b[0m\u001b[0;34m)\u001b[0m\u001b[0;34m\u001b[0m\u001b[0m\n\u001b[1;32m    925\u001b[0m         \u001b[0;32mif\u001b[0m \u001b[0m_is_string_like\u001b[0m\u001b[0;34m(\u001b[0m\u001b[0mfname\u001b[0m\u001b[0;34m)\u001b[0m\u001b[0;34m:\u001b[0m\u001b[0;34m\u001b[0m\u001b[0m\n\u001b[0;32m--> 926\u001b[0;31m             \u001b[0mfh\u001b[0m \u001b[0;34m=\u001b[0m \u001b[0mnp\u001b[0m\u001b[0;34m.\u001b[0m\u001b[0mlib\u001b[0m\u001b[0;34m.\u001b[0m\u001b[0m_datasource\u001b[0m\u001b[0;34m.\u001b[0m\u001b[0mopen\u001b[0m\u001b[0;34m(\u001b[0m\u001b[0mfname\u001b[0m\u001b[0;34m,\u001b[0m \u001b[0;34m'rt'\u001b[0m\u001b[0;34m,\u001b[0m \u001b[0mencoding\u001b[0m\u001b[0;34m=\u001b[0m\u001b[0mencoding\u001b[0m\u001b[0;34m)\u001b[0m\u001b[0;34m\u001b[0m\u001b[0m\n\u001b[0m\u001b[1;32m    927\u001b[0m             \u001b[0mfencoding\u001b[0m \u001b[0;34m=\u001b[0m \u001b[0mgetattr\u001b[0m\u001b[0;34m(\u001b[0m\u001b[0mfh\u001b[0m\u001b[0;34m,\u001b[0m \u001b[0;34m'encoding'\u001b[0m\u001b[0;34m,\u001b[0m \u001b[0;34m'latin1'\u001b[0m\u001b[0;34m)\u001b[0m\u001b[0;34m\u001b[0m\u001b[0m\n\u001b[1;32m    928\u001b[0m             \u001b[0mfh\u001b[0m \u001b[0;34m=\u001b[0m \u001b[0miter\u001b[0m\u001b[0;34m(\u001b[0m\u001b[0mfh\u001b[0m\u001b[0;34m)\u001b[0m\u001b[0;34m\u001b[0m\u001b[0m\n",
      "\u001b[0;32m/Users/gavin/miniconda3/envs/cs229_project/lib/python2.7/site-packages/numpy/lib/_datasource.pyc\u001b[0m in \u001b[0;36mopen\u001b[0;34m(path, mode, destpath, encoding, newline)\u001b[0m\n\u001b[1;32m    260\u001b[0m \u001b[0;34m\u001b[0m\u001b[0m\n\u001b[1;32m    261\u001b[0m     \u001b[0mds\u001b[0m \u001b[0;34m=\u001b[0m \u001b[0mDataSource\u001b[0m\u001b[0;34m(\u001b[0m\u001b[0mdestpath\u001b[0m\u001b[0;34m)\u001b[0m\u001b[0;34m\u001b[0m\u001b[0m\n\u001b[0;32m--> 262\u001b[0;31m     \u001b[0;32mreturn\u001b[0m \u001b[0mds\u001b[0m\u001b[0;34m.\u001b[0m\u001b[0mopen\u001b[0m\u001b[0;34m(\u001b[0m\u001b[0mpath\u001b[0m\u001b[0;34m,\u001b[0m \u001b[0mmode\u001b[0m\u001b[0;34m,\u001b[0m \u001b[0mencoding\u001b[0m\u001b[0;34m=\u001b[0m\u001b[0mencoding\u001b[0m\u001b[0;34m,\u001b[0m \u001b[0mnewline\u001b[0m\u001b[0;34m=\u001b[0m\u001b[0mnewline\u001b[0m\u001b[0;34m)\u001b[0m\u001b[0;34m\u001b[0m\u001b[0m\n\u001b[0m\u001b[1;32m    263\u001b[0m \u001b[0;34m\u001b[0m\u001b[0m\n\u001b[1;32m    264\u001b[0m \u001b[0;34m\u001b[0m\u001b[0m\n",
      "\u001b[0;32m/Users/gavin/miniconda3/envs/cs229_project/lib/python2.7/site-packages/numpy/lib/_datasource.pyc\u001b[0m in \u001b[0;36mopen\u001b[0;34m(self, path, mode, encoding, newline)\u001b[0m\n\u001b[1;32m    616\u001b[0m                                       encoding=encoding, newline=newline)\n\u001b[1;32m    617\u001b[0m         \u001b[0;32melse\u001b[0m\u001b[0;34m:\u001b[0m\u001b[0;34m\u001b[0m\u001b[0m\n\u001b[0;32m--> 618\u001b[0;31m             \u001b[0;32mraise\u001b[0m \u001b[0mIOError\u001b[0m\u001b[0;34m(\u001b[0m\u001b[0;34m\"%s not found.\"\u001b[0m \u001b[0;34m%\u001b[0m \u001b[0mpath\u001b[0m\u001b[0;34m)\u001b[0m\u001b[0;34m\u001b[0m\u001b[0m\n\u001b[0m\u001b[1;32m    619\u001b[0m \u001b[0;34m\u001b[0m\u001b[0m\n\u001b[1;32m    620\u001b[0m \u001b[0;34m\u001b[0m\u001b[0m\n",
      "\u001b[0;31mIOError\u001b[0m: train_test/label_train.txt not found."
     ]
    }
   ],
   "source": [
    "Y_train_1hot = np.loadtxt('train_test/label_train.txt')\n",
    "Y_test_1hot = np.loadtxt('train_test/label_test.txt')\n",
    "print Y_train_1hot.shape, Y_test_1hot.shape"
   ]
  },
  {
   "cell_type": "code",
   "execution_count": 3,
   "metadata": {},
   "outputs": [
    {
     "name": "stdout",
     "output_type": "stream",
     "text": [
      "(700,) (300,)\n"
     ]
    }
   ],
   "source": [
    "Y_train = np.where(Y_train_1hot==1)[1]\n",
    "Y_test = np.where(Y_test_1hot==1)[1]\n",
    "print Y_train.shape, Y_test.shape"
   ]
  },
  {
   "cell_type": "markdown",
   "metadata": {},
   "source": [
    "**First** we will use the flattened matrices as feature and try different classification methods"
   ]
  },
  {
   "cell_type": "code",
   "execution_count": 4,
   "metadata": {},
   "outputs": [
    {
     "name": "stdout",
     "output_type": "stream",
     "text": [
      "(700, 25800) (300, 25800)\n"
     ]
    }
   ],
   "source": [
    "X_flatten_train = np.load('train_test/X_train.npy').reshape(Y_train.shape[0],-1)\n",
    "X_flatten_test = np.load('train_test/X_test.npy').reshape(Y_test.shape[0],-1)\n",
    "print X_flatten_train.shape, X_flatten_test.shape"
   ]
  },
  {
   "cell_type": "markdown",
   "metadata": {},
   "source": [
    "1. SVM"
   ]
  },
  {
   "cell_type": "code",
   "execution_count": null,
   "metadata": {},
   "outputs": [],
   "source": [
    "print 'Training SVM for flattened raw matrices ...'\n",
    "clf = svm.SVC(gamma='scale').fit(X_flatten_train, Y_train)\n",
    "Y_pred = clf.predict(X_flatten_test)\n",
    "error = sum([1 for i in range(len(Y_test)) if Y_test[i] != Y_pred[i]])\n",
    "train_error = clf.score(X_flatten_train, Y_train)\n",
    "test_error = clf.score(X_flatten_test, Y_test)\n",
    "\n",
    "print '\\t# of Misclassification: %s' % str(error)\n",
    "print '\\tTrain accuracy: %s' % str(train_error)\n",
    "print '\\tTest accuracy: %s' % str(test_error)"
   ]
  },
  {
   "cell_type": "markdown",
   "metadata": {},
   "source": [
    "2. LG"
   ]
  },
  {
   "cell_type": "code",
   "execution_count": null,
   "metadata": {},
   "outputs": [],
   "source": [
    "print 'Training LR for flattened raw matrices ...' \n",
    "\n",
    "lr = LogisticRegression(random_state=0, solver='newton-cg').fit(X_flatten_train, Y_train)\n",
    "Y_pred = lr.predict(X_flatten_test)\n",
    "error = sum([1 for i in range(len(Y_test)) if Y_test[i] != Y_pred[i]])\n",
    "train_error = lr.score(X_flatten_train, Y_train)\n",
    "test_error = lr.score(X_flatten_test, Y_test)\n",
    "\n",
    "print '\\t# of Misclassification: %s' % str(error)\n",
    "print '\\tTrain accuracy: %s' % str(train_error)\n",
    "print '\\tTest accuracy: %s' % str(test_error)"
   ]
  },
  {
   "cell_type": "code",
   "execution_count": 5,
   "metadata": {},
   "outputs": [],
   "source": [
    "fix = ['conv_10','conv_20','conv_100']\n",
    "mat_path = 'train_test'"
   ]
  },
  {
   "cell_type": "markdown",
   "metadata": {},
   "source": [
    "### SVM"
   ]
  },
  {
   "cell_type": "code",
   "execution_count": null,
   "metadata": {},
   "outputs": [],
   "source": [
    "for name in fix:\n",
    "    X_train = np.loadtxt(os.path.join(mat_path, name+'_train.txt'))\n",
    "    X_test = np.loadtxt(os.path.join(mat_path, name+'_test.txt'))\n",
    "    \n",
    "    print 'Training SVM for %s ...' % name\n",
    "    \n",
    "    clf = svm.SVC(gamma='scale').fit(X_train, Y_train)\n",
    "    Y_pred = clf.predict(X_test)\n",
    "    error = sum([1 for i in range(len(X_test)) if Y_test[i] != Y_pred[i]])\n",
    "    train_error = clf.score(X_train, Y_train)\n",
    "    test_error = clf.score(X_test, Y_test)\n",
    "\n",
    "    print '\\t# of Misclassification: %s' % str(error)\n",
    "    print '\\tTrain accuracy: %s' % str(train_error)\n",
    "    print '\\tTest accuracy: %s' % str(test_error)"
   ]
  },
  {
   "cell_type": "markdown",
   "metadata": {},
   "source": [
    "### LR"
   ]
  },
  {
   "cell_type": "code",
   "execution_count": 19,
   "metadata": {},
   "outputs": [
    {
     "name": "stdout",
     "output_type": "stream",
     "text": [
      "Training LR for conv_10 ...\n",
      "(700, 10) (300, 10)\n",
      "\tTrain accuracy: 0.5485714285714286\n",
      "\tTest accuracy: 0.4266666666666667\n",
      "Training LR for conv_20 ...\n",
      "(700, 50) (300, 50)\n",
      "\tTrain accuracy: 0.6314285714285715\n",
      "\tTest accuracy: 0.4666666666666667\n"
     ]
    },
    {
     "name": "stderr",
     "output_type": "stream",
     "text": [
      "/Library/Frameworks/Python.framework/Versions/2.7/lib/python2.7/site-packages/sklearn/linear_model/logistic.py:459: FutureWarning: Default multi_class will be changed to 'auto' in 0.22. Specify the multi_class option to silence this warning.\n",
      "  \"this warning.\", FutureWarning)\n"
     ]
    },
    {
     "name": "stdout",
     "output_type": "stream",
     "text": [
      "Training LR for conv_100 ...\n",
      "(700, 100) (300, 100)\n",
      "\tTrain accuracy: 0.79\n",
      "\tTest accuracy: 0.5\n"
     ]
    }
   ],
   "source": [
    "for name in fix:\n",
    "    X_train = np.loadtxt(os.path.join(mat_path, name+'_train.txt'))\n",
    "    X_test = np.loadtxt(os.path.join(mat_path, name+'_test.txt'))\n",
    "    \n",
    "    print 'Training LR for %s ...' % name\n",
    "    print X_train.shape, X_test.shape\n",
    "    \n",
    "    lr = LogisticRegression(random_state=0, solver='liblinear').fit(X_train, Y_train)\n",
    "    Y_pred = lr.predict(X_test)\n",
    "    train_error = lr.score(X_train, Y_train)\n",
    "    test_error = lr.score(X_test, Y_test)\n",
    "\n",
    "    print '\\tTrain accuracy: %s' % str(train_error)\n",
    "    print '\\tTest accuracy: %s' % str(test_error)"
   ]
  },
  {
   "cell_type": "markdown",
   "metadata": {},
   "source": [
    "### NN"
   ]
  },
  {
   "cell_type": "code",
   "execution_count": 24,
   "metadata": {},
   "outputs": [
    {
     "name": "stdout",
     "output_type": "stream",
     "text": [
      "Training simple NN for conv_10 ...\n",
      "\tTrain accuracy: 0.5985714285714285\n",
      "\tTest accuracy: 0.44\n",
      "Training simple NN for conv_20 ...\n",
      "\tTrain accuracy: 0.76\n",
      "\tTest accuracy: 0.46\n",
      "Training simple NN for conv_100 ...\n",
      "\tTrain accuracy: 0.9742857142857143\n",
      "\tTest accuracy: 0.4533333333333333\n"
     ]
    }
   ],
   "source": [
    "for name in fix:\n",
    "    X_train = np.loadtxt(os.path.join(mat_path, name+'_train.txt'))\n",
    "    X_test = np.loadtxt(os.path.join(mat_path, name+'_test.txt'))\n",
    "    \n",
    "    print 'Training simple NN for %s ...' % name\n",
    "    \n",
    "    nn = MLPClassifier(solver='lbfgs', alpha=1e-5,\n",
    "                    hidden_layer_sizes=(15,), random_state=1).fit(X_train, Y_train)\n",
    "    Y_pred = nn.predict(X_test)\n",
    "    train_error = nn.score(X_train, Y_train)\n",
    "    test_error = nn.score(X_test, Y_test)\n",
    "\n",
    "    print '\\tTrain accuracy: %s' % str(train_error)\n",
    "    print '\\tTest accuracy: %s' % str(test_error)"
   ]
  },
  {
   "cell_type": "markdown",
   "metadata": {},
   "source": [
    "#### GDA"
   ]
  },
  {
   "cell_type": "code",
   "execution_count": 30,
   "metadata": {},
   "outputs": [
    {
     "name": "stdout",
     "output_type": "stream",
     "text": [
      "Training GDA for conv_10 ...\n",
      "\tTrain accuracy: 0.5457142857142857\n",
      "\tTest accuracy: 0.43333333333333335\n",
      "Training GDA for conv_20 ...\n",
      "\tTrain accuracy: 0.6971428571428572\n",
      "\tTest accuracy: 0.5066666666666667\n",
      "Training GDA for conv_100 ...\n",
      "\tTrain accuracy: 0.7814285714285715\n",
      "\tTest accuracy: 0.46\n"
     ]
    }
   ],
   "source": [
    "from sklearn.discriminant_analysis import LinearDiscriminantAnalysis\n",
    "for name in fix:\n",
    "    X_train = np.loadtxt(os.path.join(mat_path, name+'_train.txt'))\n",
    "    X_test = np.loadtxt(os.path.join(mat_path, name+'_test.txt'))\n",
    "    \n",
    "    print 'Training GDA for %s ...' % name\n",
    "    gda = LinearDiscriminantAnalysis().fit(X_train, Y_train)\n",
    "    Y_pred = gda.predict(X_test)\n",
    "    train_error = gda.score(X_train, Y_train)\n",
    "    test_error = gda.score(X_test, Y_test)\n",
    "\n",
    "    print '\\tTrain accuracy: %s' % str(train_error)\n",
    "    print '\\tTest accuracy: %s' % str(test_error)"
   ]
  },
  {
   "cell_type": "markdown",
   "metadata": {},
   "source": [
    "### Kmeans"
   ]
  },
  {
   "cell_type": "code",
   "execution_count": 9,
   "metadata": {},
   "outputs": [
    {
     "name": "stdout",
     "output_type": "stream",
     "text": [
      "Training kmeans for conv_10 ...\n",
      "\tAdjusted_rand_score: 0.2213157025\n",
      "\tTest accuracy: 0.08666666666666667\n",
      "Training kmeans for conv_20 ...\n",
      "\tAdjusted_rand_score: 0.248361179846\n",
      "\tTest accuracy: 0.09\n",
      "Training kmeans for conv_100 ...\n",
      "\tAdjusted_rand_score: 0.221885965086\n",
      "\tTest accuracy: 0.03\n"
     ]
    }
   ],
   "source": [
    "for name in fix:\n",
    "    X_train = np.loadtxt(os.path.join(mat_path, name+'_train.txt'))\n",
    "    X_test = np.loadtxt(os.path.join(mat_path, name+'_test.txt'))\n",
    "    \n",
    "    print 'Training kmeans for %s ...' % name\n",
    "    \n",
    "    km = KMeans(n_clusters=10,n_init=30).fit(X_train)\n",
    "    Y_pred = km.predict(X_test)\n",
    "    test_error = skmetrics.accuracy_score(Y_pred, Y_test)\n",
    "\n",
    "#   - Adjusted_rand_score: negative values are bad (independent labelings), similar \n",
    "#   - clusterings have a positive ARI, 1.0 is the perfect match score.\n",
    "    Adjusted_rand_score = skmetrics.adjusted_rand_score(Y_pred, Y_test)\n",
    "    \n",
    "    print '\\tAdjusted_rand_score: %s' % str(Adjusted_rand_score)\n",
    "    print '\\tTest accuracy: %s' % str(test_error)\n"
   ]
  },
  {
   "cell_type": "markdown",
   "metadata": {},
   "source": [
    "### Mixture of Gaussian"
   ]
  },
  {
   "cell_type": "code",
   "execution_count": 10,
   "metadata": {},
   "outputs": [
    {
     "name": "stdout",
     "output_type": "stream",
     "text": [
      "Training kmeans for conv_10 ...\n",
      "\tAdjusted_rand_score: 0.0729090151139\n",
      "\tTest accuracy: 0.01\n",
      "Training kmeans for conv_20 ...\n",
      "\tAdjusted_rand_score: 0.0674258490282\n",
      "\tTest accuracy: 0.03\n",
      "Training kmeans for conv_100 ...\n",
      "\tAdjusted_rand_score: 0.0516287857261\n",
      "\tTest accuracy: 0.12666666666666668\n"
     ]
    }
   ],
   "source": [
    "for name in fix:\n",
    "    X_train = np.loadtxt(os.path.join(mat_path, name+'_train.txt'))\n",
    "    X_test = np.loadtxt(os.path.join(mat_path, name+'_test.txt'))\n",
    "    \n",
    "    print 'Training kmeans for %s ...' % name\n",
    "    \n",
    "    gmm = GaussianMixture(\n",
    "        n_components=2, covariance_type='tied').fit(X_train)\n",
    "    Y_pred = gmm.predict(X_test)\n",
    "    test_error = skmetrics.accuracy_score(Y_pred, Y_test)\n",
    "\n",
    "#   - Adjusted_rand_score: negative values are bad (independent labelings), similar \n",
    "#   - clusterings have a positive ARI, 1.0 is the perfect match score.\n",
    "    Adjusted_rand_score = skmetrics.adjusted_rand_score(Y_pred, Y_test)\n",
    "\n",
    "    print '\\tAdjusted_rand_score: %s' % str(Adjusted_rand_score)\n",
    "    print '\\tTest accuracy: %s' % str(test_error)\n"
   ]
  },
  {
   "cell_type": "markdown",
   "metadata": {},
   "source": [
    "### See how PCA works"
   ]
  },
  {
   "cell_type": "code",
   "execution_count": 11,
   "metadata": {},
   "outputs": [],
   "source": [
    "ind_test_0 = []\n",
    "ind_test_1 = []\n",
    "ind_test_2 = []\n",
    "ind_test_3 = []\n",
    "ind_test_4 = []\n",
    "ind_test_5 = []\n",
    "ind_test_6 = []\n",
    "ind_test_7 = []\n",
    "ind_test_8 = []\n",
    "ind_test_9 = []\n",
    "\n",
    "for i in range(len(Y_test)):\n",
    "    if Y_test[i]==1: ind_test_1.append(i)\n",
    "    if Y_test[i]==2: ind_test_2.append(i)\n",
    "    if Y_test[i]==3: ind_test_3.append(i)\n",
    "    if Y_test[i]==4: ind_test_4.append(i)\n",
    "    if Y_test[i]==5: ind_test_5.append(i)\n",
    "    if Y_test[i]==6: ind_test_6.append(i)\n",
    "    if Y_test[i]==7: ind_test_7.append(i)\n",
    "    if Y_test[i]==8: ind_test_8.append(i)\n",
    "    if Y_test[i]==9: ind_test_9.append(i)\n",
    "    else: ind_test_0.append(i)\n",
    "        \n",
    "ind_train_0 = []\n",
    "ind_train_1 = []\n",
    "ind_train_2 = []\n",
    "ind_train_3 = []\n",
    "ind_train_4 = []\n",
    "ind_train_5 = []\n",
    "ind_train_6 = []\n",
    "ind_train_7 = []\n",
    "ind_train_8 = []\n",
    "ind_train_9 = []\n",
    "\n",
    "for i in range(len(Y_pred)):\n",
    "    if Y_pred[i]==1: ind_train_1.append(i)\n",
    "    if Y_pred[i]==2: ind_train_2.append(i)\n",
    "    if Y_pred[i]==3: ind_train_3.append(i)\n",
    "    if Y_pred[i]==4: ind_train_4.append(i)\n",
    "    if Y_pred[i]==5: ind_train_5.append(i)\n",
    "    if Y_pred[i]==6: ind_train_6.append(i)\n",
    "    if Y_pred[i]==7: ind_train_7.append(i)\n",
    "    if Y_pred[i]==8: ind_train_8.append(i)\n",
    "    if Y_pred[i]==9: ind_train_9.append(i)\n",
    "    else: ind_train_0.append(i)"
   ]
  },
  {
   "cell_type": "code",
   "execution_count": 34,
   "metadata": {},
   "outputs": [],
   "source": [
    "ind_pred_0 = []\n",
    "ind_pred_1 = []\n",
    "ind_pred_2 = []\n",
    "ind_pred_3 = []\n",
    "ind_pred_4 = []\n",
    "ind_pred_5 = []\n",
    "ind_pred_6 = []\n",
    "ind_pred_7 = []\n",
    "ind_pred_8 = []\n",
    "ind_pred_9 = []\n",
    "\n",
    "for i in range(len(Y_pred)):\n",
    "    if Y_pred[i]==1: ind_pred_1.append(i)\n",
    "    if Y_pred[i]==2: ind_pred_2.append(i)\n",
    "    if Y_pred[i]==3: ind_pred_3.append(i)\n",
    "    if Y_pred[i]==4: ind_pred_4.append(i)\n",
    "    if Y_pred[i]==5: ind_pred_5.append(i)\n",
    "    if Y_pred[i]==6: ind_pred_6.append(i)\n",
    "    if Y_pred[i]==7: ind_pred_7.append(i)\n",
    "    if Y_pred[i]==8: ind_pred_8.append(i)\n",
    "    if Y_pred[i]==9: ind_pred_9.append(i)\n",
    "    else: ind_pred_0.append(i)"
   ]
  },
  {
   "cell_type": "code",
   "execution_count": 37,
   "metadata": {},
   "outputs": [
    {
     "name": "stdout",
     "output_type": "stream",
     "text": [
      "(700, 3)\n",
      "(300, 3)\n"
     ]
    }
   ],
   "source": [
    "name = 'conv_10'\n",
    "X_train = np.loadtxt(os.path.join(mat_path, name+'_train.txt'))\n",
    "X_test = np.loadtxt(os.path.join(mat_path, name+'_test.txt'))\n",
    "pca = PCA(n_components=3).fit(X_train)\n",
    "X_train_pca = pca.transform(X_train)\n",
    "X_test_pca = pca.transform(X_test)\n",
    "print X_train_pca.shape\n",
    "print X_test_pca.shape"
   ]
  },
  {
   "cell_type": "code",
   "execution_count": null,
   "metadata": {},
   "outputs": [],
   "source": [
    "print X_test_pca[ind_test_0,1]"
   ]
  },
  {
   "cell_type": "code",
   "execution_count": 41,
   "metadata": {},
   "outputs": [
    {
     "data": {
      "text/plain": [
       "<matplotlib.legend.Legend at 0x11e56f690>"
      ]
     },
     "execution_count": 41,
     "metadata": {},
     "output_type": "execute_result"
    },
    {
     "data": {
      "image/png": "[encoded data removed]",
      "text/plain": [
       "<Figure size 432x288 with 1 Axes>"
      ]
     },
     "metadata": {
      "needs_background": "light"
     },
     "output_type": "display_data"
    }
   ],
   "source": [
    "from matplotlib import pyplot\n",
    "import matplotlib.pyplot as plt\n",
    "from mpl_toolkits.mplot3d import Axes3D\n",
    "fig = pyplot.figure()\n",
    "# ax = Axes3D(fig)\n",
    "# ax.scatter(X_test_pca[ind_test_0,0], X_test_pca[ind_test_0,1], X_test_pca[ind_test_0,2] , label = '0')\n",
    "# ax.scatter(X_test_pca[ind_test_1,0], X_test_pca[ind_test_1,1], X_test_pca[ind_test_1,2], label = '1')\n",
    "# ax.scatter(X_test_pca[ind_test_2,0], X_test_pca[ind_test_2,1], X_test_pca[ind_test_2,2], label = '2')\n",
    "# plt.scatter(X_test_pca[ind_test_3,0], X_test_pca[ind_test_3,1], X_test_pca[ind_test_3,2], label = '3')\n",
    "# plt.scatter(X_test_pca[ind_test_4,0], X_test_pca[ind_test_4,1], X_test_pca[ind_test_4,2], label = '4')\n",
    "# plt.scatter(X_test_pca[ind_test_5,0], X_test_pca[ind_test_5,1], X_test_pca[ind_test_5,2], label = '5')\n",
    "# plt.scatter(X_test_pca[ind_test_6,0], X_test_pca[ind_test_6,1], X_test_pca[ind_test_6,2], label = '6')\n",
    "# plt.scatter(X_test_pca[ind_test_7,0], X_test_pca[ind_test_7,1], X_test_pca[ind_test_7,2], label = '7')\n",
    "# plt.scatter(X_test_pca[ind_test_8,0], X_test_pca[ind_test_8,1], X_test_pca[ind_test_8,2], label = '8')\n",
    "# plt.scatter(X_test_pca[ind_test_9,0], X_test_pca[ind_test_9,1], X_test_pca[ind_test_9,2], label = '9')\n",
    "# plt.legend()\n",
    "\n",
    "\n",
    "# plt.scatter(X_test_pca[ind_test_0,0], X_test_pca[ind_test_0,1], label = '0')\n",
    "# plt.scatter(X_test_pca[ind_test_1,0], X_test_pca[ind_test_1,1], label = '1')\n",
    "# plt.scatter(X_test_pca[ind_test_2,0], X_test_pca[ind_test_2,1], label = '2')\n",
    "# plt.scatter(X_test_pca[ind_test_3,0], X_test_pca[ind_test_3,1], label = '3')\n",
    "# plt.scatter(X_test_pca[ind_test_4,0], X_test_pca[ind_test_4,1], label = '4')\n",
    "plt.scatter(X_test_pca[ind_test_5,0], X_test_pca[ind_test_5,1], label = '5')\n",
    "plt.scatter(X_test_pca[ind_test_6,0], X_test_pca[ind_test_6,1], label = '6')\n",
    "plt.scatter(X_test_pca[ind_test_7,0], X_test_pca[ind_test_7,1], label = '7')\n",
    "plt.scatter(X_test_pca[ind_test_8,0], X_test_pca[ind_test_8,1], label = '8')\n",
    "plt.scatter(X_test_pca[ind_test_9,0], X_test_pca[ind_test_9,1], label = '9')\n",
    "plt.legend()"
   ]
  },
  {
   "cell_type": "code",
   "execution_count": 42,
   "metadata": {},
   "outputs": [
    {
     "data": {
      "text/plain": [
       "<matplotlib.legend.Legend at 0x11e653f10>"
      ]
     },
     "execution_count": 42,
     "metadata": {},
     "output_type": "execute_result"
    },
    {
     "data": {
      "image/png": "[encoded data removed]",
      "text/plain": [
       "<Figure size 432x288 with 1 Axes>"
      ]
     },
     "metadata": {
      "needs_background": "light"
     },
     "output_type": "display_data"
    }
   ],
   "source": [
    "from matplotlib import pyplot\n",
    "import matplotlib.pyplot as plt\n",
    "from mpl_toolkits.mplot3d import Axes3D\n",
    "# fig = pyplot.figure()\n",
    "# ax = Axes3D(fig)\n",
    "# ax.scatter(X_test_pca[ind_test_0,0], X_test_pca[ind_test_0,1], X_test_pca[ind_test_0,2] , label = '0')\n",
    "# ax.scatter(X_test_pca[ind_test_1,0], X_test_pca[ind_test_1,1], X_test_pca[ind_test_1,2], label = '1')\n",
    "# ax.scatter(X_test_pca[ind_test_2,0], X_test_pca[ind_test_2,1], X_test_pca[ind_test_2,2], label = '2')\n",
    "# plt.scatter(X_test_pca[ind_test_3,0], X_test_pca[ind_test_3,1], X_test_pca[ind_test_3,2], label = '3')\n",
    "# plt.scatter(X_test_pca[ind_test_4,0], X_test_pca[ind_test_4,1], X_test_pca[ind_test_4,2], label = '4')\n",
    "# plt.scatter(X_test_pca[ind_test_5,0], X_test_pca[ind_test_5,1], X_test_pca[ind_test_5,2], label = '5')\n",
    "# plt.scatter(X_test_pca[ind_test_6,0], X_test_pca[ind_test_6,1], X_test_pca[ind_test_6,2], label = '6')\n",
    "# plt.scatter(X_test_pca[ind_test_7,0], X_test_pca[ind_test_7,1], X_test_pca[ind_test_7,2], label = '7')\n",
    "# plt.scatter(X_test_pca[ind_test_8,0], X_test_pca[ind_test_8,1], X_test_pca[ind_test_8,2], label = '8')\n",
    "# plt.scatter(X_test_pca[ind_test_9,0], X_test_pca[ind_test_9,1], X_test_pca[ind_test_9,2], label = '9')\n",
    "# plt.legend()\n",
    "\n",
    "\n",
    "# plt.scatter(X_test_pca[ind_pred_0,0], X_test_pca[ind_pred_0,1], label = '0')\n",
    "# plt.scatter(X_test_pca[ind_pred_1,0], X_test_pca[ind_pred_1,1], label = '1')\n",
    "# plt.scatter(X_test_pca[ind_pred_2,0], X_test_pca[ind_pred_2,1], label = '2')\n",
    "# plt.scatter(X_test_pca[ind_pred_3,0], X_test_pca[ind_pred_3,1], label = '3')\n",
    "# plt.scatter(X_test_pca[ind_test_4,0], X_test_pca[ind_test_4,1], label = '4')\n",
    "plt.scatter(X_test_pca[ind_test_5,0], X_test_pca[ind_test_5,1], label = '5')\n",
    "plt.scatter(X_test_pca[ind_test_6,0], X_test_pca[ind_test_6,1], label = '6')\n",
    "plt.scatter(X_test_pca[ind_test_7,0], X_test_pca[ind_test_7,1], label = '7')\n",
    "plt.scatter(X_test_pca[ind_test_8,0], X_test_pca[ind_test_8,1], label = '8')\n",
    "plt.scatter(X_test_pca[ind_test_9,0], X_test_pca[ind_test_9,1], label = '9')\n",
    "plt.legend()"
   ]
  },
  {
   "cell_type": "code",
   "execution_count": null,
   "metadata": {},
   "outputs": [],
   "source": [
    "fig = plt.figure()\n",
    "ax = fig.add_subplot(111, projection='3d')\n",
    "\n",
    "ax.scatter(X_train_pca[ind_train_1,0], X_train_pca[ind_train_1,1], X_train_pca[ind_train_1,2], label = '1')\n",
    "ax.scatter(X_train_pca[ind_train_0,0], X_train_pca[ind_train_0,1], X_train_pca[ind_train_0,2], label = '0')\n",
    "ax.legend()"
   ]
  },
  {
   "cell_type": "markdown",
   "metadata": {},
   "source": [
    "#### pca-2d"
   ]
  },
  {
   "cell_type": "code",
   "execution_count": null,
   "metadata": {},
   "outputs": [],
   "source": [
    "name = 'dense50'\n",
    "X_train = np.loadtxt(os.path.join(mat_path, name+'_train.txt'))\n",
    "X_test = np.loadtxt(os.path.join(mat_path, name+'_test.txt'))\n",
    "pca = PCA(n_components=2).fit(X_train)\n",
    "X_train_pca = pca.transform(X_train)\n",
    "X_test_pca = pca.transform(X_test)\n",
    "# print X_train_pca\n",
    "# print X_test_pca"
   ]
  },
  {
   "cell_type": "code",
   "execution_count": null,
   "metadata": {},
   "outputs": [],
   "source": [
    "plt.figure()\n",
    "\n",
    "plt.scatter(X_train_pca[ind_train_1,0], X_train_pca[ind_train_1,1], label = '1')\n",
    "plt.scatter(X_train_pca[ind_train_0,0], X_train_pca[ind_train_0,1], label = '0')\n",
    "plt.legend()"
   ]
  },
  {
   "cell_type": "code",
   "execution_count": null,
   "metadata": {},
   "outputs": [],
   "source": [
    "name = 'dense100'\n",
    "X_train = np.loadtxt(os.path.join(mat_path, name+'_train.txt'))\n",
    "X_test = np.loadtxt(os.path.join(mat_path, name+'_test.txt'))\n",
    "pca = PCA(n_components=3).fit(X_train)\n",
    "X_train_pca = pca.transform(X_train)\n",
    "X_test_pca = pca.transform(X_test)\n",
    "# print X_train_pca\n",
    "# print X_test_pca"
   ]
  },
  {
   "cell_type": "code",
   "execution_count": null,
   "metadata": {},
   "outputs": [],
   "source": [
    "fig = plt.figure()\n",
    "ax = fig.add_subplot(111, projection='3d')\n",
    "\n",
    "ax.scatter(X_train_pca[ind_train_1,0], X_train_pca[ind_train_1,1], X_train_pca[ind_train_1,2], label = '1')\n",
    "ax.scatter(X_train_pca[ind_train_0,0], X_train_pca[ind_train_0,1], X_train_pca[ind_train_0,2], label = '0')\n",
    "ax.legend()"
   ]
  },
  {
   "cell_type": "code",
   "execution_count": null,
   "metadata": {},
   "outputs": [],
   "source": [
    "fig = plt.figure()\n",
    "ax = fig.add_subplot(111, projection='3d')\n",
    "\n",
    "ax.scatter(X_test_pca[ind_test_1,0], X_test_pca[ind_test_1,1], X_test_pca[ind_test_1,2], label = '1')\n",
    "ax.scatter(X_test_pca[ind_test_0,0], X_test_pca[ind_test_0,1], X_test_pca[ind_test_0,2], label = '0')\n",
    "ax.legend()"
   ]
  }
 ],
 "metadata": {
  "kernelspec": {
   "display_name": "Python 2",
   "language": "python",
   "name": "python2"
  },
  "language_info": {
   "codemirror_mode": {
    "name": "ipython",
    "version": 2
   },
   "file_extension": ".py",
   "mimetype": "text/x-python",
   "name": "python",
   "nbconvert_exporter": "python",
   "pygments_lexer": "ipython2",
   "version": "2.7.15"
  }
 },
 "nbformat": 4,
 "nbformat_minor": 2
}
