{
 "cells": [
  {
   "cell_type": "code",
   "execution_count": 41,
   "metadata": {},
   "outputs": [],
   "source": [
    "import os\n",
    "import numpy as np\n",
    "\n",
    "import sklearn.model_selection as ms\n",
    "import sklearn.metrics as skmetrics\n",
    "\n",
    "from sklearn.multiclass import OneVsRestClassifier\n",
    "from sklearn.naive_bayes import MultinomialNB\n",
    "from sklearn import svm\n",
    "from sklearn.cluster import KMeans\n",
    "from sklearn.mixture import GaussianMixture\n",
    "from sklearn.linear_model import LogisticRegression\n",
    "from sklearn.neural_network import MLPClassifier\n",
    "from sklearn.decomposition import PCA\n",
    "\n",
    "from sklearn.ensemble import RandomForestClassifier\n",
    "\n",
    "from mpl_toolkits.mplot3d import Axes3D\n",
    "import matplotlib.pyplot as plt\n",
    "import numpy as np"
   ]
  },
  {
   "cell_type": "code",
   "execution_count": 15,
   "metadata": {},
   "outputs": [
    {
     "name": "stdout",
     "output_type": "stream",
     "text": [
      "(400, 5) (100, 5)\n"
     ]
    }
   ],
   "source": [
    "Y_train_1hot = np.loadtxt('extracted/Y_train.txt')\n",
    "Y_test_1hot = np.loadtxt('extracted/Y_test.txt')\n",
    "print Y_train_1hot.shape, Y_test_1hot.shape"
   ]
  },
  {
   "cell_type": "code",
   "execution_count": 16,
   "metadata": {},
   "outputs": [
    {
     "name": "stdout",
     "output_type": "stream",
     "text": [
      "(400,) (100,)\n"
     ]
    }
   ],
   "source": [
    "Y_train = np.where(Y_train_1hot==1)[1]\n",
    "Y_test = np.where(Y_test_1hot==1)[1]\n",
    "print Y_train.shape, Y_test.shape"
   ]
  },
  {
   "cell_type": "markdown",
   "metadata": {},
   "source": [
    "**First** we will use the flattened matrices as feature and try different classification methods"
   ]
  },
  {
   "cell_type": "code",
   "execution_count": 17,
   "metadata": {},
   "outputs": [
    {
     "name": "stdout",
     "output_type": "stream",
     "text": [
      "(400, 25800) (100, 25800)\n"
     ]
    }
   ],
   "source": [
    "X_flatten_train = np.load('extracted/X_train.npy').reshape(Y_train.shape[0],-1)\n",
    "X_flatten_test = np.load('extracted/X_test.npy').reshape(Y_test.shape[0],-1)\n",
    "print X_flatten_train.shape, X_flatten_test.shape"
   ]
  },
  {
   "cell_type": "markdown",
   "metadata": {},
   "source": [
    "## Using SVM on the raw input"
   ]
  },
  {
   "cell_type": "code",
   "execution_count": 18,
   "metadata": {
    "scrolled": true
   },
   "outputs": [
    {
     "name": "stdout",
     "output_type": "stream",
     "text": [
      "Training SVM for flattened raw matrices ...\n",
      "\t# of Misclassification: 72\n",
      "\tTrain accuracy: 1.0\n",
      "\tTest accuracy: 0.28\n"
     ]
    }
   ],
   "source": [
    "print 'Training SVM for flattened raw matrices ...'\n",
    "clf = svm.SVC(gamma='scale').fit(X_flatten_train, Y_train)\n",
    "Y_pred = clf.predict(X_flatten_test)\n",
    "error = sum([1 for i in range(len(Y_test)) if Y_test[i] != Y_pred[i]])\n",
    "train_error = clf.score(X_flatten_train, Y_train)\n",
    "test_error = clf.score(X_flatten_test, Y_test)\n",
    "\n",
    "print '\\t# of Misclassification: %s' % str(error)\n",
    "print '\\tTrain accuracy: %s' % str(train_error)\n",
    "print '\\tTest accuracy: %s' % str(test_error)"
   ]
  },
  {
   "cell_type": "markdown",
   "metadata": {},
   "source": [
    "## Using SVM on a hidden layers"
   ]
  },
  {
   "cell_type": "code",
   "execution_count": 23,
   "metadata": {},
   "outputs": [
    {
     "name": "stdout",
     "output_type": "stream",
     "text": [
      "Training SVM for conv_1 layers ...\n",
      "\t# of Misclassification: 16\n",
      "\tTrain accuracy: 0.9375\n",
      "\tTest accuracy: 0.84\n"
     ]
    }
   ],
   "source": [
    "print 'Training SVM for conv_1 layers ...'\n",
    "\n",
    "mat_path = 'extracted'\n",
    "name = 'conv_1'\n",
    "\n",
    "X_train_hidden1 = np.loadtxt(os.path.join(mat_path, name+'_train.txt'))\n",
    "X_test_hidden1 = np.loadtxt(os.path.join(mat_path, name+'_test.txt'))\n",
    "\n",
    "clf = svm.SVC(gamma='scale').fit(X_train_hidden1, Y_train)\n",
    "Y_pred = clf.predict(X_test_hidden1)\n",
    "error = sum([1 for i in range(len(Y_test)) if Y_test[i] != Y_pred[i]])\n",
    "train_error = clf.score(X_train_hidden1, Y_train)\n",
    "test_error = clf.score(X_test_hidden1, Y_test)\n",
    "\n",
    "print '\\t# of Misclassification: %s' % str(error)\n",
    "print '\\tTrain accuracy: %s' % str(train_error)\n",
    "print '\\tTest accuracy: %s' % str(test_error)"
   ]
  },
  {
   "cell_type": "code",
   "execution_count": 25,
   "metadata": {},
   "outputs": [
    {
     "name": "stdout",
     "output_type": "stream",
     "text": [
      "Training SVM for conv_2 ...\n",
      "\t# of Misclassification: 13\n",
      "\tTrain accuracy: 0.92\n",
      "\tTest accuracy: 0.87\n"
     ]
    }
   ],
   "source": [
    "print 'Training SVM for conv_2 ...'\n",
    "\n",
    "mat_path = 'extracted'\n",
    "name = 'conv_2'\n",
    "\n",
    "X_train_hidden2 = np.loadtxt(os.path.join(mat_path, name+'_train.txt'))\n",
    "X_test_hidden2 = np.loadtxt(os.path.join(mat_path, name+'_test.txt'))\n",
    "\n",
    "clf = svm.SVC(gamma='scale').fit(X_train_hidden2, Y_train)\n",
    "Y_pred = clf.predict(X_test_hidden2)\n",
    "error = sum([1 for i in range(len(Y_test)) if Y_test[i] != Y_pred[i]])\n",
    "train_error = clf.score(X_train_hidden2, Y_train)\n",
    "test_error = clf.score(X_test_hidden2, Y_test)\n",
    "\n",
    "print '\\t# of Misclassification: %s' % str(error)\n",
    "print '\\tTrain accuracy: %s' % str(train_error)\n",
    "print '\\tTest accuracy: %s' % str(test_error)"
   ]
  },
  {
   "cell_type": "markdown",
   "metadata": {},
   "source": [
    "## Using Logistic Regression on raw input"
   ]
  },
  {
   "cell_type": "code",
   "execution_count": 33,
   "metadata": {},
   "outputs": [
    {
     "name": "stdout",
     "output_type": "stream",
     "text": [
      "Training LR for flattened raw matrices ...\n",
      "\t# of Misclassification: 23\n",
      "\tTrain accuracy: 1.0\n",
      "\tTest accuracy: 0.77\n"
     ]
    }
   ],
   "source": [
    "print 'Training LR for flattened raw matrices ...' \n",
    "\n",
    "lr = LogisticRegression(random_state=0, solver='newton-cg').fit(X_flatten_train, Y_train)\n",
    "Y_pred = lr.predict(X_flatten_test)\n",
    "Y_train_pred = lr.predict(X_flatten_train)\n",
    "error = sum([1 for i in range(len(Y_test)) if Y_test[i] != Y_pred[i]])\n",
    "\n",
    "# train_error = lr.score(X_flatten_train, Y_train)\n",
    "# test_error = lr.score(X_flatten_test, Y_test)\n",
    "\n",
    "train_error = skmetrics.precision_score(Y_train, Y_train_pred, average='micro') \n",
    "test_error = skmetrics.precision_score(Y_test, Y_pred, average='micro') \n",
    "\n",
    "print '\\t# of Misclassification: %s' % str(error)\n",
    "print '\\tTrain accuracy: %s' % str(train_error)\n",
    "print '\\tTest accuracy: %s' % str(test_error)"
   ]
  },
  {
   "cell_type": "markdown",
   "metadata": {},
   "source": [
    "## Using Logistic Regression on hidden layers"
   ]
  },
  {
   "cell_type": "code",
   "execution_count": 36,
   "metadata": {},
   "outputs": [
    {
     "name": "stdout",
     "output_type": "stream",
     "text": [
      "Training LR for hidden layer 1 ...\n",
      "\t# of Misclassification: 12\n",
      "\tTrain accuracy: 0.945\n",
      "\tTest accuracy: 0.88\n"
     ]
    }
   ],
   "source": [
    "print 'Training LR for hidden layer 1 ...' \n",
    "\n",
    "lr = LogisticRegression(random_state=0, solver='newton-cg').fit(X_train_hidden1, Y_train)\n",
    "Y_pred = lr.predict(X_test_hidden1)\n",
    "Y_train_pred = lr.predict(X_train_hidden1)\n",
    "error = sum([1 for i in range(len(Y_test)) if Y_test[i] != Y_pred[i]])\n",
    "\n",
    "train_error = skmetrics.precision_score(Y_train, Y_train_pred, average='micro') \n",
    "test_error = skmetrics.precision_score(Y_test, Y_pred, average='micro') \n",
    "\n",
    "\n",
    "print '\\t# of Misclassification: %s' % str(error)\n",
    "print '\\tTrain accuracy: %s' % str(train_error)\n",
    "print '\\tTest accuracy: %s' % str(test_error)"
   ]
  },
  {
   "cell_type": "code",
   "execution_count": 37,
   "metadata": {},
   "outputs": [
    {
     "name": "stdout",
     "output_type": "stream",
     "text": [
      "Training LR for hidden layer 2 ...\n",
      "Training LR for hidden layer 1 ...\n",
      "\t# of Misclassification: 12\n",
      "\tTrain accuracy: 0.9875\n",
      "\tTest accuracy: 0.88\n"
     ]
    }
   ],
   "source": [
    "print 'Training LR for hidden layer 2 ...' \n",
    "\n",
    "lr = LogisticRegression(random_state=0, solver='newton-cg').fit(X_train_hidden2, Y_train)\n",
    "Y_pred = lr.predict(X_test_hidden2)\n",
    "Y_train_pred = lr.predict(X_train_hidden2)\n",
    "error = sum([1 for i in range(len(Y_test)) if Y_test[i] != Y_pred[i]])\n",
    "\n",
    "train_error = skmetrics.precision_score(Y_train, Y_train_pred, average='micro') \n",
    "test_error = skmetrics.precision_score(Y_test, Y_pred, average='micro') \n",
    "\n",
    "\n",
    "print '\\t# of Misclassification: %s' % str(error)\n",
    "print '\\tTrain accuracy: %s' % str(train_error)\n",
    "print '\\tTest accuracy: %s' % str(test_error)"
   ]
  },
  {
   "cell_type": "markdown",
   "metadata": {},
   "source": [
    "## Using GDA on raw input"
   ]
  },
  {
   "cell_type": "code",
   "execution_count": 40,
   "metadata": {},
   "outputs": [
    {
     "name": "stdout",
     "output_type": "stream",
     "text": [
      "\tTrain accuracy: 0.8875\n",
      "\tTest accuracy: 0.77\n"
     ]
    }
   ],
   "source": [
    "X_train = X_flatten_train\n",
    "X_test = X_flatten_test\n",
    "\n",
    "gda = LinearDiscriminantAnalysis().fit(X_train, Y_train)\n",
    "Y_pred = gda.predict(X_test)\n",
    "train_error = gda.score(X_train, Y_train)\n",
    "test_error = gda.score(X_test, Y_test)\n",
    "\n",
    "print '\\tTrain accuracy: %s' % str(train_error)\n",
    "print '\\tTest accuracy: %s' % str(test_error)"
   ]
  },
  {
   "cell_type": "markdown",
   "metadata": {},
   "source": [
    "## Using GDA on hidden layers\n"
   ]
  },
  {
   "cell_type": "code",
   "execution_count": 38,
   "metadata": {},
   "outputs": [
    {
     "name": "stdout",
     "output_type": "stream",
     "text": [
      "Training GDA for conv_1 ...\n",
      "\tTrain accuracy: 0.94\n",
      "\tTest accuracy: 0.8\n",
      "Training GDA for conv_2 ...\n",
      "\tTrain accuracy: 1.0\n",
      "\tTest accuracy: 0.61\n"
     ]
    }
   ],
   "source": [
    "fix = ['conv_1', 'conv_2']\n",
    "from sklearn.discriminant_analysis import LinearDiscriminantAnalysis\n",
    "for name in fix:\n",
    "    X_train = np.loadtxt(os.path.join(mat_path, name+'_train.txt'))\n",
    "    X_test = np.loadtxt(os.path.join(mat_path, name+'_test.txt'))\n",
    "    \n",
    "    print 'Training GDA for %s ...' % name\n",
    "    gda = LinearDiscriminantAnalysis().fit(X_train, Y_train)\n",
    "    Y_pred = gda.predict(X_test)\n",
    "    train_error = gda.score(X_train, Y_train)\n",
    "    test_error = gda.score(X_test, Y_test)\n",
    "\n",
    "    print '\\tTrain accuracy: %s' % str(train_error)\n",
    "    print '\\tTest accuracy: %s' % str(test_error)"
   ]
  },
  {
   "cell_type": "markdown",
   "metadata": {},
   "source": [
    "## Using Random Forests for raw input"
   ]
  },
  {
   "cell_type": "code",
   "execution_count": null,
   "metadata": {},
   "outputs": [],
   "source": [
    "X_train = X_\n",
    "X_test = X_flatten_test\n",
    "clf = RandomForestClassifier(n_estimators=200, max_depth=20, random_state=0).fit(X_train, Y_train)\n",
    "Y_pred = clf.predict(X_test)\n",
    "train_error = clf.score(X_train, Y_train)\n",
    "test_error = clf.score(X_test, Y_test)\n",
    "\n",
    "print '\\tTrain accuracy: %s' % str(train_error)\n",
    "print '\\tTest accuracy: %s' % str(test_error)"
   ]
  },
  {
   "cell_type": "markdown",
   "metadata": {},
   "source": [
    "## Using Random Forests for hidden layers"
   ]
  },
  {
   "cell_type": "code",
   "execution_count": 48,
   "metadata": {},
   "outputs": [
    {
     "name": "stdout",
     "output_type": "stream",
     "text": [
      "\tTrain accuracy: 1.0\n",
      "\tTest accuracy: 0.87\n"
     ]
    }
   ],
   "source": [
    "X_train = X_train_hidden1\n",
    "X_test = X_test_hidden1\n",
    "clf = RandomForestClassifier(n_estimators=200, max_depth=20, random_state=0).fit(X_train, Y_train)\n",
    "Y_pred = clf.predict(X_test)\n",
    "train_error = clf.score(X_train, Y_train)\n",
    "test_error = clf.score(X_test, Y_test)\n",
    "\n",
    "print '\\tTrain accuracy: %s' % str(train_error)\n",
    "print '\\tTest accuracy: %s' % str(test_error)\n"
   ]
  },
  {
   "cell_type": "code",
   "execution_count": 49,
   "metadata": {},
   "outputs": [
    {
     "name": "stdout",
     "output_type": "stream",
     "text": [
      "\tTrain accuracy: 1.0\n",
      "\tTest accuracy: 0.85\n"
     ]
    }
   ],
   "source": [
    "X_train = X_train_hidden2\n",
    "X_test = X_test_hidden2\n",
    "clf = RandomForestClassifier(n_estimators=200, max_depth=20, random_state=0).fit(X_train, Y_train)\n",
    "Y_pred = clf.predict(X_test)\n",
    "train_error = clf.score(X_train, Y_train)\n",
    "test_error = clf.score(X_test, Y_test)\n",
    "\n",
    "print '\\tTrain accuracy: %s' % str(train_error)\n",
    "print '\\tTest accuracy: %s' % str(test_error)"
   ]
  },
  {
   "cell_type": "markdown",
   "metadata": {},
   "source": [
    "## Using PCA to plot data"
   ]
  }
 ],
 "metadata": {
  "kernelspec": {
   "display_name": "Python 2",
   "language": "python",
   "name": "python2"
  },
  "language_info": {
   "codemirror_mode": {
    "name": "ipython",
    "version": 2
   },
   "file_extension": ".py",
   "mimetype": "text/x-python",
   "name": "python",
   "nbconvert_exporter": "python",
   "pygments_lexer": "ipython2",
   "version": "2.7.15"
  }
 },
 "nbformat": 4,
 "nbformat_minor": 2
}
